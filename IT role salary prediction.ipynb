{
 "cells": [
  {
   "cell_type": "code",
   "execution_count": 254,
   "id": "57706d04",
   "metadata": {},
   "outputs": [],
   "source": [
    "import pandas as pd\n",
    "import numpy as np\n",
    "import matplotlib.pyplot as plt\n",
    "import pickle\n",
    "from sklearn.metrics import mean_squared_error"
   ]
  },
  {
   "cell_type": "markdown",
   "id": "697a09db",
   "metadata": {},
   "source": [
    "### Import data"
   ]
  },
  {
   "cell_type": "markdown",
   "id": "d3a6c31f",
   "metadata": {},
   "source": [
    "dataset comes from https://insights.stackoverflow.com/survey"
   ]
  },
  {
   "cell_type": "code",
   "execution_count": 255,
   "id": "86ef1f1f",
   "metadata": {},
   "outputs": [],
   "source": [
    "df_2023 = pd.read_csv(\"data/survey_results_public_2023.csv\", usecols = [\"Country\",\"DevType\",\"EdLevel\",\"WorkExp\",\"YearsCode\",\"ConvertedCompYearly\",\"Employment\"])\n",
    "df_2022 = pd.read_csv(\"data/survey_results_public_2022.csv\", usecols =[\"Country\",\"DevType\",\"EdLevel\",\"WorkExp\",\"YearsCode\",\"ConvertedCompYearly\",\"Employment\"])\n",
    "df = pd.concat([df_2022, df_2023], ignore_index = True)"
   ]
  },
  {
   "cell_type": "code",
   "execution_count": 256,
   "id": "1de79910",
   "metadata": {},
   "outputs": [
    {
     "data": {
      "text/html": [
       "<div>\n",
       "<style scoped>\n",
       "    .dataframe tbody tr th:only-of-type {\n",
       "        vertical-align: middle;\n",
       "    }\n",
       "\n",
       "    .dataframe tbody tr th {\n",
       "        vertical-align: top;\n",
       "    }\n",
       "\n",
       "    .dataframe thead th {\n",
       "        text-align: right;\n",
       "    }\n",
       "</style>\n",
       "<table border=\"1\" class=\"dataframe\">\n",
       "  <thead>\n",
       "    <tr style=\"text-align: right;\">\n",
       "      <th></th>\n",
       "      <th>Employment</th>\n",
       "      <th>EdLevel</th>\n",
       "      <th>YearsCode</th>\n",
       "      <th>DevType</th>\n",
       "      <th>Country</th>\n",
       "      <th>WorkExp</th>\n",
       "      <th>ConvertedCompYearly</th>\n",
       "    </tr>\n",
       "  </thead>\n",
       "  <tbody>\n",
       "    <tr>\n",
       "      <th>0</th>\n",
       "      <td>NaN</td>\n",
       "      <td>NaN</td>\n",
       "      <td>NaN</td>\n",
       "      <td>NaN</td>\n",
       "      <td>NaN</td>\n",
       "      <td>NaN</td>\n",
       "      <td>NaN</td>\n",
       "    </tr>\n",
       "    <tr>\n",
       "      <th>1</th>\n",
       "      <td>Employed, full-time</td>\n",
       "      <td>NaN</td>\n",
       "      <td>NaN</td>\n",
       "      <td>NaN</td>\n",
       "      <td>Canada</td>\n",
       "      <td>NaN</td>\n",
       "      <td>NaN</td>\n",
       "    </tr>\n",
       "    <tr>\n",
       "      <th>2</th>\n",
       "      <td>Employed, full-time</td>\n",
       "      <td>Master’s degree (M.A., M.S., M.Eng., MBA, etc.)</td>\n",
       "      <td>14</td>\n",
       "      <td>Data scientist or machine learning specialist;...</td>\n",
       "      <td>United Kingdom of Great Britain and Northern I...</td>\n",
       "      <td>NaN</td>\n",
       "      <td>40205.0</td>\n",
       "    </tr>\n",
       "  </tbody>\n",
       "</table>\n",
       "</div>"
      ],
      "text/plain": [
       "            Employment                                          EdLevel  \\\n",
       "0                  NaN                                              NaN   \n",
       "1  Employed, full-time                                              NaN   \n",
       "2  Employed, full-time  Master’s degree (M.A., M.S., M.Eng., MBA, etc.)   \n",
       "\n",
       "  YearsCode                                            DevType  \\\n",
       "0       NaN                                                NaN   \n",
       "1       NaN                                                NaN   \n",
       "2        14  Data scientist or machine learning specialist;...   \n",
       "\n",
       "                                             Country  WorkExp  \\\n",
       "0                                                NaN      NaN   \n",
       "1                                             Canada      NaN   \n",
       "2  United Kingdom of Great Britain and Northern I...      NaN   \n",
       "\n",
       "   ConvertedCompYearly  \n",
       "0                  NaN  \n",
       "1                  NaN  \n",
       "2              40205.0  "
      ]
     },
     "execution_count": 256,
     "metadata": {},
     "output_type": "execute_result"
    }
   ],
   "source": [
    "df.head(3)"
   ]
  },
  {
   "cell_type": "code",
   "execution_count": 257,
   "id": "74d8729c",
   "metadata": {},
   "outputs": [],
   "source": [
    "df = df[df.Employment == \"Employed, full-time\"]\n",
    "df.drop(\"Employment\", axis=1, inplace=True)"
   ]
  },
  {
   "cell_type": "code",
   "execution_count": 258,
   "id": "ba1bbb86",
   "metadata": {},
   "outputs": [
    {
     "name": "stdout",
     "output_type": "stream",
     "text": [
      "<class 'pandas.core.frame.DataFrame'>\n",
      "Int64Index: 96710 entries, 1 to 162451\n",
      "Data columns (total 6 columns):\n",
      " #   Column               Non-Null Count  Dtype  \n",
      "---  ------               --------------  -----  \n",
      " 0   EdLevel              96642 non-null  object \n",
      " 1   YearsCode            96211 non-null  object \n",
      " 2   DevType              96338 non-null  object \n",
      " 3   Country              96710 non-null  object \n",
      " 4   WorkExp              65089 non-null  float64\n",
      " 5   ConvertedCompYearly  70803 non-null  float64\n",
      "dtypes: float64(2), object(4)\n",
      "memory usage: 5.2+ MB\n"
     ]
    }
   ],
   "source": [
    "df.info()"
   ]
  },
  {
   "cell_type": "markdown",
   "id": "f3ff45e1",
   "metadata": {},
   "source": [
    "### Drop value"
   ]
  },
  {
   "cell_type": "code",
   "execution_count": 259,
   "id": "465ce9a7",
   "metadata": {},
   "outputs": [
    {
     "data": {
      "text/plain": [
       "EdLevel                   68\n",
       "YearsCode                499\n",
       "DevType                  372\n",
       "Country                    0\n",
       "WorkExp                31621\n",
       "ConvertedCompYearly    25907\n",
       "dtype: int64"
      ]
     },
     "execution_count": 259,
     "metadata": {},
     "output_type": "execute_result"
    }
   ],
   "source": [
    "df.isnull().sum()"
   ]
  },
  {
   "cell_type": "code",
   "execution_count": 260,
   "id": "820c089d",
   "metadata": {},
   "outputs": [
    {
     "data": {
      "text/plain": [
       "6420"
      ]
     },
     "execution_count": 260,
     "metadata": {},
     "output_type": "execute_result"
    }
   ],
   "source": [
    "len(df.DevType.value_counts())"
   ]
  },
  {
   "cell_type": "code",
   "execution_count": 261,
   "id": "50e54d56",
   "metadata": {},
   "outputs": [
    {
     "data": {
      "text/plain": [
       "Developer, full-stack                                                                                           23242\n",
       "Developer, back-end                                                                                             15098\n",
       "Developer, front-end                                                                                             5443\n",
       "Developer, desktop or enterprise applications                                                                    3403\n",
       "Developer, mobile                                                                                                2965\n",
       "Other (please specify):                                                                                          2848\n",
       "Engineering manager                                                                                              2220\n",
       "Developer, embedded applications or devices                                                                      1959\n",
       "Data scientist or machine learning specialist                                                                    1541\n",
       "Developer, front-end;Developer, full-stack;Developer, back-end                                                   1327\n",
       "Engineer, data                                                                                                   1295\n",
       "DevOps specialist                                                                                                1251\n",
       "Developer, full-stack;Developer, back-end                                                                        1220\n",
       "Senior Executive (C-Suite, VP, etc.)                                                                             1164\n",
       "Academic researcher                                                                                              1037\n",
       "Research & Development role                                                                                      1009\n",
       "Cloud infrastructure engineer                                                                                     942\n",
       "Data or business analyst                                                                                          787\n",
       "Developer, front-end;Developer, full-stack                                                                        726\n",
       "Developer, QA or test                                                                                             726\n",
       "System administrator                                                                                              609\n",
       "Developer, game or graphics                                                                                       592\n",
       "Developer, back-end;Developer, desktop or enterprise applications                                                 543\n",
       "Project manager                                                                                                   505\n",
       "Engineer, site reliability                                                                                        451\n",
       "Product manager                                                                                                   451\n",
       "Security professional                                                                                             435\n",
       "Developer, front-end;Developer, full-stack;Developer, back-end;Developer, desktop or enterprise applications      362\n",
       "Scientist                                                                                                         343\n",
       "Developer, back-end;Cloud infrastructure engineer                                                                 305\n",
       "Name: DevType, dtype: int64"
      ]
     },
     "execution_count": 261,
     "metadata": {},
     "output_type": "execute_result"
    }
   ],
   "source": [
    "df.DevType.value_counts().head(30)"
   ]
  },
  {
   "cell_type": "markdown",
   "id": "4ebd03d6",
   "metadata": {},
   "source": [
    "Too many DevType, only keep top 30"
   ]
  },
  {
   "cell_type": "code",
   "execution_count": 262,
   "id": "f1ec597b",
   "metadata": {},
   "outputs": [],
   "source": [
    "df.DevType = df.DevType.replace(\"Other (please specify):\", \"Other\")"
   ]
  },
  {
   "cell_type": "code",
   "execution_count": 263,
   "id": "5aa18a30",
   "metadata": {},
   "outputs": [],
   "source": [
    "DevType_list = df.DevType.value_counts().head(30).index.to_list()"
   ]
  },
  {
   "cell_type": "code",
   "execution_count": 264,
   "id": "ed1ff336",
   "metadata": {},
   "outputs": [
    {
     "data": {
      "text/plain": [
       "['Developer, full-stack',\n",
       " 'Developer, back-end',\n",
       " 'Developer, front-end',\n",
       " 'Developer, desktop or enterprise applications',\n",
       " 'Developer, mobile',\n",
       " 'Other',\n",
       " 'Engineering manager',\n",
       " 'Developer, embedded applications or devices',\n",
       " 'Data scientist or machine learning specialist',\n",
       " 'Developer, front-end;Developer, full-stack;Developer, back-end',\n",
       " 'Engineer, data',\n",
       " 'DevOps specialist',\n",
       " 'Developer, full-stack;Developer, back-end',\n",
       " 'Senior Executive (C-Suite, VP, etc.)',\n",
       " 'Academic researcher',\n",
       " 'Research & Development role',\n",
       " 'Cloud infrastructure engineer',\n",
       " 'Data or business analyst',\n",
       " 'Developer, front-end;Developer, full-stack',\n",
       " 'Developer, QA or test',\n",
       " 'System administrator',\n",
       " 'Developer, game or graphics',\n",
       " 'Developer, back-end;Developer, desktop or enterprise applications',\n",
       " 'Project manager',\n",
       " 'Engineer, site reliability',\n",
       " 'Product manager',\n",
       " 'Security professional',\n",
       " 'Developer, front-end;Developer, full-stack;Developer, back-end;Developer, desktop or enterprise applications',\n",
       " 'Scientist',\n",
       " 'Developer, back-end;Cloud infrastructure engineer']"
      ]
     },
     "execution_count": 264,
     "metadata": {},
     "output_type": "execute_result"
    }
   ],
   "source": [
    "DevType_list"
   ]
  },
  {
   "cell_type": "code",
   "execution_count": 265,
   "id": "0e84cc98",
   "metadata": {},
   "outputs": [],
   "source": [
    "df = df[df.DevType.isin(DevType_list)]"
   ]
  },
  {
   "cell_type": "code",
   "execution_count": 266,
   "id": "88fa56b8",
   "metadata": {},
   "outputs": [
    {
     "data": {
      "text/plain": [
       "Developer, full-stack                                                                                           23242\n",
       "Developer, back-end                                                                                             15098\n",
       "Developer, front-end                                                                                             5443\n",
       "Developer, desktop or enterprise applications                                                                    3403\n",
       "Developer, mobile                                                                                                2965\n",
       "Other                                                                                                            2848\n",
       "Engineering manager                                                                                              2220\n",
       "Developer, embedded applications or devices                                                                      1959\n",
       "Data scientist or machine learning specialist                                                                    1541\n",
       "Developer, front-end;Developer, full-stack;Developer, back-end                                                   1327\n",
       "Engineer, data                                                                                                   1295\n",
       "DevOps specialist                                                                                                1251\n",
       "Developer, full-stack;Developer, back-end                                                                        1220\n",
       "Senior Executive (C-Suite, VP, etc.)                                                                             1164\n",
       "Academic researcher                                                                                              1037\n",
       "Research & Development role                                                                                      1009\n",
       "Cloud infrastructure engineer                                                                                     942\n",
       "Data or business analyst                                                                                          787\n",
       "Developer, front-end;Developer, full-stack                                                                        726\n",
       "Developer, QA or test                                                                                             726\n",
       "System administrator                                                                                              609\n",
       "Developer, game or graphics                                                                                       592\n",
       "Developer, back-end;Developer, desktop or enterprise applications                                                 543\n",
       "Project manager                                                                                                   505\n",
       "Engineer, site reliability                                                                                        451\n",
       "Product manager                                                                                                   451\n",
       "Security professional                                                                                             435\n",
       "Developer, front-end;Developer, full-stack;Developer, back-end;Developer, desktop or enterprise applications      362\n",
       "Scientist                                                                                                         343\n",
       "Developer, back-end;Cloud infrastructure engineer                                                                 305\n",
       "Name: DevType, dtype: int64"
      ]
     },
     "execution_count": 266,
     "metadata": {},
     "output_type": "execute_result"
    }
   ],
   "source": [
    "df.DevType.value_counts()"
   ]
  },
  {
   "cell_type": "code",
   "execution_count": 267,
   "id": "22e10c5a",
   "metadata": {},
   "outputs": [],
   "source": [
    "df.YearsCode=df.YearsCode.replace(\"More than 50 years\", \"55\")\n",
    "df.YearsCode=df.YearsCode.replace(\"Less than 1 year\", \"0.5\")\n",
    "df = df.dropna(subset=['YearsCode'])"
   ]
  },
  {
   "cell_type": "code",
   "execution_count": 268,
   "id": "4f65b22e",
   "metadata": {},
   "outputs": [],
   "source": [
    "df = df[df.ConvertedCompYearly.notnull()]"
   ]
  },
  {
   "cell_type": "code",
   "execution_count": 269,
   "id": "4681a28f",
   "metadata": {},
   "outputs": [],
   "source": [
    "df.loc[df['DevType'].isnull(), 'DevType'] = \"Unknown\""
   ]
  },
  {
   "cell_type": "code",
   "execution_count": 270,
   "id": "b982b97b",
   "metadata": {},
   "outputs": [],
   "source": [
    "group_columns = [\"Country\", \"DevType\",\"EdLevel\", \"YearsCode\"]\n",
    "grouped = df.groupby(group_columns).transform(\"mean\")"
   ]
  },
  {
   "cell_type": "code",
   "execution_count": 271,
   "id": "abced77c",
   "metadata": {},
   "outputs": [],
   "source": [
    "df['WorkExp'] = df['WorkExp'].fillna(grouped['WorkExp'])"
   ]
  },
  {
   "cell_type": "code",
   "execution_count": 272,
   "id": "eabb5301",
   "metadata": {},
   "outputs": [],
   "source": [
    "df = df.dropna()"
   ]
  },
  {
   "cell_type": "code",
   "execution_count": 273,
   "id": "60564325",
   "metadata": {},
   "outputs": [
    {
     "data": {
      "text/plain": [
       "EdLevel                0\n",
       "YearsCode              0\n",
       "DevType                0\n",
       "Country                0\n",
       "WorkExp                0\n",
       "ConvertedCompYearly    0\n",
       "dtype: int64"
      ]
     },
     "execution_count": 273,
     "metadata": {},
     "output_type": "execute_result"
    }
   ],
   "source": [
    "df.isnull().sum()"
   ]
  },
  {
   "cell_type": "markdown",
   "id": "64555b0f",
   "metadata": {},
   "source": [
    "### Combine similar content"
   ]
  },
  {
   "cell_type": "code",
   "execution_count": 274,
   "id": "68c72194",
   "metadata": {},
   "outputs": [],
   "source": [
    "df.DevType = df.DevType.replace(\"Other (please specify):\", \"Others\")\n",
    "df.DevType = df.DevType.replace(\"Unknown\", \"Others\")"
   ]
  },
  {
   "cell_type": "markdown",
   "id": "27370458",
   "metadata": {},
   "source": [
    "### Convert categorical value to numeric value"
   ]
  },
  {
   "cell_type": "code",
   "execution_count": 275,
   "id": "8d3ff2fe",
   "metadata": {},
   "outputs": [
    {
     "data": {
      "text/plain": [
       "['United States of America',\n",
       " 'United Kingdom of Great Britain and Northern Ireland',\n",
       " 'Germany',\n",
       " 'India',\n",
       " 'Canada',\n",
       " 'France',\n",
       " 'Brazil']"
      ]
     },
     "execution_count": 275,
     "metadata": {},
     "output_type": "execute_result"
    }
   ],
   "source": [
    "country_to_select = df.Country.value_counts().index[df.Country.value_counts() > 1200].to_list()\n",
    "country_to_select"
   ]
  },
  {
   "cell_type": "code",
   "execution_count": 276,
   "id": "ebf4f956",
   "metadata": {},
   "outputs": [],
   "source": [
    "df = df[df['Country'].isin(country_to_select)]"
   ]
  },
  {
   "cell_type": "code",
   "execution_count": 277,
   "id": "159359ed",
   "metadata": {},
   "outputs": [
    {
     "data": {
      "image/png": "[encoded data removed]",
      "text/plain": [
       "<Figure size 864x504 with 1 Axes>"
      ]
     },
     "metadata": {
      "needs_background": "light"
     },
     "output_type": "display_data"
    }
   ],
   "source": [
    "fig, ax = plt.subplots(1,1, figsize=(12, 7))\n",
    "df.boxplot('ConvertedCompYearly', 'Country', ax=ax)\n",
    "plt.suptitle('ConvertedCompYearly(US$)')\n",
    "plt.title('')\n",
    "plt.ylabel('Salary')\n",
    "plt.xticks(rotation=90)\n",
    "plt.show()"
   ]
  },
  {
   "cell_type": "code",
   "execution_count": 278,
   "id": "104a1f51",
   "metadata": {},
   "outputs": [],
   "source": [
    "df = df[df[\"ConvertedCompYearly\"] <= 250000]\n",
    "df = df[df[\"ConvertedCompYearly\"] >= 10000]"
   ]
  },
  {
   "cell_type": "code",
   "execution_count": 279,
   "id": "493550f4",
   "metadata": {},
   "outputs": [
    {
     "data": {
      "image/png": "[encoded data removed]",
      "text/plain": [
       "<Figure size 864x504 with 1 Axes>"
      ]
     },
     "metadata": {
      "needs_background": "light"
     },
     "output_type": "display_data"
    }
   ],
   "source": [
    "fig, ax = plt.subplots(1,1, figsize=(12, 7))\n",
    "df.boxplot('ConvertedCompYearly', 'Country', ax=ax)\n",
    "plt.suptitle('ConvertedCompYearly(US$)')\n",
    "plt.title('')\n",
    "plt.ylabel('Salary')\n",
    "plt.xticks(rotation=90)\n",
    "plt.show()"
   ]
  },
  {
   "cell_type": "code",
   "execution_count": 280,
   "id": "8e717f75",
   "metadata": {},
   "outputs": [],
   "source": [
    "dic_Age = {\"Under 18 years old\": 15, \"18-24 years old\": 18, \"25-34 years old\": 25, \"35-44 years old\": 35, \"45-54 years old\": 45, \"55-64 years old\": 55, \"65 years or older\": 65}"
   ]
  },
  {
   "cell_type": "code",
   "execution_count": 281,
   "id": "7563066f",
   "metadata": {},
   "outputs": [],
   "source": [
    "df = df.replace(dic_Age)"
   ]
  },
  {
   "cell_type": "code",
   "execution_count": 282,
   "id": "d4896e5e",
   "metadata": {},
   "outputs": [],
   "source": [
    "dic_EdLevel = {\"Something else\": 1, \"Primary/elementary school\": 1, \"Associate degree (A.A., A.S., etc.)\": 1, \"Secondary school (e.g. American high school, German Realschule or Gymnasium, etc.)\": 1, \"Some college/university study without earning a degree\": 1, \"Bachelor’s degree (B.A., B.S., B.Eng., etc.)\":2, \"Master’s degree (M.A., M.S., M.Eng., MBA, etc.)\":3,\"Professional degree (JD, MD, Ph.D, Ed.D, etc.)\": 4, \"Professional degree (JD, MD, etc.)\": 4, \"Other doctoral degree (Ph.D., Ed.D., etc.)\": 4}"
   ]
  },
  {
   "cell_type": "code",
   "execution_count": 283,
   "id": "9121b837",
   "metadata": {},
   "outputs": [],
   "source": [
    "df = df.replace(dic_EdLevel)"
   ]
  },
  {
   "cell_type": "code",
   "execution_count": 284,
   "id": "9d0af541",
   "metadata": {},
   "outputs": [
    {
     "data": {
      "text/plain": [
       "2    14434\n",
       "3     6642\n",
       "1     4557\n",
       "4      977\n",
       "Name: EdLevel, dtype: int64"
      ]
     },
     "execution_count": 284,
     "metadata": {},
     "output_type": "execute_result"
    }
   ],
   "source": [
    "df.EdLevel.value_counts()"
   ]
  },
  {
   "cell_type": "code",
   "execution_count": 285,
   "id": "107e0d5a",
   "metadata": {},
   "outputs": [
    {
     "data": {
      "text/html": [
       "<div>\n",
       "<style scoped>\n",
       "    .dataframe tbody tr th:only-of-type {\n",
       "        vertical-align: middle;\n",
       "    }\n",
       "\n",
       "    .dataframe tbody tr th {\n",
       "        vertical-align: top;\n",
       "    }\n",
       "\n",
       "    .dataframe thead th {\n",
       "        text-align: right;\n",
       "    }\n",
       "</style>\n",
       "<table border=\"1\" class=\"dataframe\">\n",
       "  <thead>\n",
       "    <tr style=\"text-align: right;\">\n",
       "      <th></th>\n",
       "      <th>EdLevel</th>\n",
       "      <th>YearsCode</th>\n",
       "      <th>DevType</th>\n",
       "      <th>Country</th>\n",
       "      <th>WorkExp</th>\n",
       "      <th>ConvertedCompYearly</th>\n",
       "    </tr>\n",
       "  </thead>\n",
       "  <tbody>\n",
       "    <tr>\n",
       "      <th>10</th>\n",
       "      <td>2</td>\n",
       "      <td>5</td>\n",
       "      <td>Developer, full-stack;Developer, back-end</td>\n",
       "      <td>United Kingdom of Great Britain and Northern I...</td>\n",
       "      <td>5.000000</td>\n",
       "      <td>60307.0</td>\n",
       "    </tr>\n",
       "    <tr>\n",
       "      <th>12</th>\n",
       "      <td>2</td>\n",
       "      <td>12</td>\n",
       "      <td>Developer, full-stack</td>\n",
       "      <td>United States of America</td>\n",
       "      <td>5.000000</td>\n",
       "      <td>65000.0</td>\n",
       "    </tr>\n",
       "    <tr>\n",
       "      <th>22</th>\n",
       "      <td>1</td>\n",
       "      <td>25</td>\n",
       "      <td>Developer, back-end</td>\n",
       "      <td>Canada</td>\n",
       "      <td>23.000000</td>\n",
       "      <td>97605.0</td>\n",
       "    </tr>\n",
       "    <tr>\n",
       "      <th>26</th>\n",
       "      <td>2</td>\n",
       "      <td>10</td>\n",
       "      <td>Developer, full-stack;Developer, back-end</td>\n",
       "      <td>United States of America</td>\n",
       "      <td>7.538462</td>\n",
       "      <td>106960.0</td>\n",
       "    </tr>\n",
       "    <tr>\n",
       "      <th>31</th>\n",
       "      <td>2</td>\n",
       "      <td>24</td>\n",
       "      <td>Developer, full-stack</td>\n",
       "      <td>United States of America</td>\n",
       "      <td>21.000000</td>\n",
       "      <td>102000.0</td>\n",
       "    </tr>\n",
       "  </tbody>\n",
       "</table>\n",
       "</div>"
      ],
      "text/plain": [
       "    EdLevel YearsCode                                    DevType  \\\n",
       "10        2         5  Developer, full-stack;Developer, back-end   \n",
       "12        2        12                      Developer, full-stack   \n",
       "22        1        25                        Developer, back-end   \n",
       "26        2        10  Developer, full-stack;Developer, back-end   \n",
       "31        2        24                      Developer, full-stack   \n",
       "\n",
       "                                              Country    WorkExp  \\\n",
       "10  United Kingdom of Great Britain and Northern I...   5.000000   \n",
       "12                           United States of America   5.000000   \n",
       "22                                             Canada  23.000000   \n",
       "26                           United States of America   7.538462   \n",
       "31                           United States of America  21.000000   \n",
       "\n",
       "    ConvertedCompYearly  \n",
       "10              60307.0  \n",
       "12              65000.0  \n",
       "22              97605.0  \n",
       "26             106960.0  \n",
       "31             102000.0  "
      ]
     },
     "execution_count": 285,
     "metadata": {},
     "output_type": "execute_result"
    }
   ],
   "source": [
    "df.head()"
   ]
  },
  {
   "cell_type": "code",
   "execution_count": 286,
   "id": "16c90cf0",
   "metadata": {
    "scrolled": true
   },
   "outputs": [
    {
     "name": "stdout",
     "output_type": "stream",
     "text": [
      "<class 'pandas.core.frame.DataFrame'>\n",
      "Int64Index: 26610 entries, 10 to 162438\n",
      "Data columns (total 6 columns):\n",
      " #   Column               Non-Null Count  Dtype  \n",
      "---  ------               --------------  -----  \n",
      " 0   EdLevel              26610 non-null  int64  \n",
      " 1   YearsCode            26610 non-null  object \n",
      " 2   DevType              26610 non-null  object \n",
      " 3   Country              26610 non-null  object \n",
      " 4   WorkExp              26610 non-null  float64\n",
      " 5   ConvertedCompYearly  26610 non-null  float64\n",
      "dtypes: float64(2), int64(1), object(3)\n",
      "memory usage: 1.4+ MB\n"
     ]
    }
   ],
   "source": [
    "df.info()"
   ]
  },
  {
   "cell_type": "code",
   "execution_count": 287,
   "id": "8a410a17",
   "metadata": {},
   "outputs": [],
   "source": [
    "df[\"EdLevel\"] = pd.to_numeric(df[\"EdLevel\"] )"
   ]
  },
  {
   "cell_type": "code",
   "execution_count": 288,
   "id": "72f42bdd",
   "metadata": {},
   "outputs": [],
   "source": [
    "df[\"YearsCode\"] = pd.to_numeric(df[\"YearsCode\"])"
   ]
  },
  {
   "cell_type": "code",
   "execution_count": 289,
   "id": "faa9f258",
   "metadata": {},
   "outputs": [
    {
     "name": "stdout",
     "output_type": "stream",
     "text": [
      "<class 'pandas.core.frame.DataFrame'>\n",
      "Int64Index: 26610 entries, 10 to 162438\n",
      "Data columns (total 6 columns):\n",
      " #   Column               Non-Null Count  Dtype  \n",
      "---  ------               --------------  -----  \n",
      " 0   EdLevel              26610 non-null  int64  \n",
      " 1   YearsCode            26610 non-null  float64\n",
      " 2   DevType              26610 non-null  object \n",
      " 3   Country              26610 non-null  object \n",
      " 4   WorkExp              26610 non-null  float64\n",
      " 5   ConvertedCompYearly  26610 non-null  float64\n",
      "dtypes: float64(3), int64(1), object(2)\n",
      "memory usage: 1.4+ MB\n"
     ]
    }
   ],
   "source": [
    "df.info()"
   ]
  },
  {
   "cell_type": "code",
   "execution_count": 290,
   "id": "7350036d",
   "metadata": {
    "scrolled": false
   },
   "outputs": [],
   "source": [
    "from sklearn.preprocessing import LabelEncoder\n",
    "#df = pd.get_dummies(df, columns= [\"Country\", \"DevType\"])\n",
    "LabelEncoder_Country = LabelEncoder()\n",
    "df['Country'] = LabelEncoder_Country.fit_transform(df['Country']) \n",
    "LabelEncoder_DevType = LabelEncoder()\n",
    "df['DevType'] = LabelEncoder_DevType.fit_transform(df['DevType']) "
   ]
  },
  {
   "cell_type": "code",
   "execution_count": 291,
   "id": "064bd5ea",
   "metadata": {
    "scrolled": true
   },
   "outputs": [
    {
     "data": {
      "text/html": [
       "<div>\n",
       "<style scoped>\n",
       "    .dataframe tbody tr th:only-of-type {\n",
       "        vertical-align: middle;\n",
       "    }\n",
       "\n",
       "    .dataframe tbody tr th {\n",
       "        vertical-align: top;\n",
       "    }\n",
       "\n",
       "    .dataframe thead th {\n",
       "        text-align: right;\n",
       "    }\n",
       "</style>\n",
       "<table border=\"1\" class=\"dataframe\">\n",
       "  <thead>\n",
       "    <tr style=\"text-align: right;\">\n",
       "      <th></th>\n",
       "      <th>EdLevel</th>\n",
       "      <th>YearsCode</th>\n",
       "      <th>DevType</th>\n",
       "      <th>Country</th>\n",
       "      <th>WorkExp</th>\n",
       "      <th>ConvertedCompYearly</th>\n",
       "    </tr>\n",
       "  </thead>\n",
       "  <tbody>\n",
       "    <tr>\n",
       "      <th>10</th>\n",
       "      <td>2.0</td>\n",
       "      <td>5.0</td>\n",
       "      <td>16.0</td>\n",
       "      <td>5.0</td>\n",
       "      <td>5.000000</td>\n",
       "      <td>60307.0</td>\n",
       "    </tr>\n",
       "    <tr>\n",
       "      <th>12</th>\n",
       "      <td>2.0</td>\n",
       "      <td>12.0</td>\n",
       "      <td>15.0</td>\n",
       "      <td>6.0</td>\n",
       "      <td>5.000000</td>\n",
       "      <td>65000.0</td>\n",
       "    </tr>\n",
       "    <tr>\n",
       "      <th>22</th>\n",
       "      <td>1.0</td>\n",
       "      <td>25.0</td>\n",
       "      <td>6.0</td>\n",
       "      <td>1.0</td>\n",
       "      <td>23.000000</td>\n",
       "      <td>97605.0</td>\n",
       "    </tr>\n",
       "    <tr>\n",
       "      <th>26</th>\n",
       "      <td>2.0</td>\n",
       "      <td>10.0</td>\n",
       "      <td>16.0</td>\n",
       "      <td>6.0</td>\n",
       "      <td>7.538462</td>\n",
       "      <td>106960.0</td>\n",
       "    </tr>\n",
       "    <tr>\n",
       "      <th>31</th>\n",
       "      <td>2.0</td>\n",
       "      <td>24.0</td>\n",
       "      <td>15.0</td>\n",
       "      <td>6.0</td>\n",
       "      <td>21.000000</td>\n",
       "      <td>102000.0</td>\n",
       "    </tr>\n",
       "    <tr>\n",
       "      <th>...</th>\n",
       "      <td>...</td>\n",
       "      <td>...</td>\n",
       "      <td>...</td>\n",
       "      <td>...</td>\n",
       "      <td>...</td>\n",
       "      <td>...</td>\n",
       "    </tr>\n",
       "    <tr>\n",
       "      <th>162422</th>\n",
       "      <td>2.0</td>\n",
       "      <td>20.0</td>\n",
       "      <td>11.0</td>\n",
       "      <td>6.0</td>\n",
       "      <td>8.000000</td>\n",
       "      <td>75000.0</td>\n",
       "    </tr>\n",
       "    <tr>\n",
       "      <th>162424</th>\n",
       "      <td>2.0</td>\n",
       "      <td>12.0</td>\n",
       "      <td>21.0</td>\n",
       "      <td>6.0</td>\n",
       "      <td>8.000000</td>\n",
       "      <td>195000.0</td>\n",
       "    </tr>\n",
       "    <tr>\n",
       "      <th>162430</th>\n",
       "      <td>3.0</td>\n",
       "      <td>30.0</td>\n",
       "      <td>6.0</td>\n",
       "      <td>0.0</td>\n",
       "      <td>25.000000</td>\n",
       "      <td>50719.0</td>\n",
       "    </tr>\n",
       "    <tr>\n",
       "      <th>162435</th>\n",
       "      <td>2.0</td>\n",
       "      <td>6.0</td>\n",
       "      <td>18.0</td>\n",
       "      <td>4.0</td>\n",
       "      <td>2.000000</td>\n",
       "      <td>15752.0</td>\n",
       "    </tr>\n",
       "    <tr>\n",
       "      <th>162438</th>\n",
       "      <td>3.0</td>\n",
       "      <td>18.0</td>\n",
       "      <td>22.0</td>\n",
       "      <td>2.0</td>\n",
       "      <td>9.000000</td>\n",
       "      <td>64254.0</td>\n",
       "    </tr>\n",
       "  </tbody>\n",
       "</table>\n",
       "<p>26610 rows × 6 columns</p>\n",
       "</div>"
      ],
      "text/plain": [
       "        EdLevel  YearsCode  DevType  Country    WorkExp  ConvertedCompYearly\n",
       "10          2.0        5.0     16.0      5.0   5.000000              60307.0\n",
       "12          2.0       12.0     15.0      6.0   5.000000              65000.0\n",
       "22          1.0       25.0      6.0      1.0  23.000000              97605.0\n",
       "26          2.0       10.0     16.0      6.0   7.538462             106960.0\n",
       "31          2.0       24.0     15.0      6.0  21.000000             102000.0\n",
       "...         ...        ...      ...      ...        ...                  ...\n",
       "162422      2.0       20.0     11.0      6.0   8.000000              75000.0\n",
       "162424      2.0       12.0     21.0      6.0   8.000000             195000.0\n",
       "162430      3.0       30.0      6.0      0.0  25.000000              50719.0\n",
       "162435      2.0        6.0     18.0      4.0   2.000000              15752.0\n",
       "162438      3.0       18.0     22.0      2.0   9.000000              64254.0\n",
       "\n",
       "[26610 rows x 6 columns]"
      ]
     },
     "execution_count": 291,
     "metadata": {},
     "output_type": "execute_result"
    }
   ],
   "source": [
    "df.astype(float)"
   ]
  },
  {
   "cell_type": "code",
   "execution_count": 292,
   "id": "4e48bb80",
   "metadata": {},
   "outputs": [
    {
     "data": {
      "text/html": [
       "<div>\n",
       "<style scoped>\n",
       "    .dataframe tbody tr th:only-of-type {\n",
       "        vertical-align: middle;\n",
       "    }\n",
       "\n",
       "    .dataframe tbody tr th {\n",
       "        vertical-align: top;\n",
       "    }\n",
       "\n",
       "    .dataframe thead th {\n",
       "        text-align: right;\n",
       "    }\n",
       "</style>\n",
       "<table border=\"1\" class=\"dataframe\">\n",
       "  <thead>\n",
       "    <tr style=\"text-align: right;\">\n",
       "      <th></th>\n",
       "      <th>EdLevel</th>\n",
       "      <th>YearsCode</th>\n",
       "      <th>DevType</th>\n",
       "      <th>Country</th>\n",
       "      <th>WorkExp</th>\n",
       "      <th>ConvertedCompYearly</th>\n",
       "    </tr>\n",
       "  </thead>\n",
       "  <tbody>\n",
       "    <tr>\n",
       "      <th>10</th>\n",
       "      <td>2</td>\n",
       "      <td>5.0</td>\n",
       "      <td>16</td>\n",
       "      <td>5</td>\n",
       "      <td>5.000000</td>\n",
       "      <td>60307.0</td>\n",
       "    </tr>\n",
       "    <tr>\n",
       "      <th>12</th>\n",
       "      <td>2</td>\n",
       "      <td>12.0</td>\n",
       "      <td>15</td>\n",
       "      <td>6</td>\n",
       "      <td>5.000000</td>\n",
       "      <td>65000.0</td>\n",
       "    </tr>\n",
       "    <tr>\n",
       "      <th>22</th>\n",
       "      <td>1</td>\n",
       "      <td>25.0</td>\n",
       "      <td>6</td>\n",
       "      <td>1</td>\n",
       "      <td>23.000000</td>\n",
       "      <td>97605.0</td>\n",
       "    </tr>\n",
       "    <tr>\n",
       "      <th>26</th>\n",
       "      <td>2</td>\n",
       "      <td>10.0</td>\n",
       "      <td>16</td>\n",
       "      <td>6</td>\n",
       "      <td>7.538462</td>\n",
       "      <td>106960.0</td>\n",
       "    </tr>\n",
       "    <tr>\n",
       "      <th>31</th>\n",
       "      <td>2</td>\n",
       "      <td>24.0</td>\n",
       "      <td>15</td>\n",
       "      <td>6</td>\n",
       "      <td>21.000000</td>\n",
       "      <td>102000.0</td>\n",
       "    </tr>\n",
       "    <tr>\n",
       "      <th>...</th>\n",
       "      <td>...</td>\n",
       "      <td>...</td>\n",
       "      <td>...</td>\n",
       "      <td>...</td>\n",
       "      <td>...</td>\n",
       "      <td>...</td>\n",
       "    </tr>\n",
       "    <tr>\n",
       "      <th>162422</th>\n",
       "      <td>2</td>\n",
       "      <td>20.0</td>\n",
       "      <td>11</td>\n",
       "      <td>6</td>\n",
       "      <td>8.000000</td>\n",
       "      <td>75000.0</td>\n",
       "    </tr>\n",
       "    <tr>\n",
       "      <th>162424</th>\n",
       "      <td>2</td>\n",
       "      <td>12.0</td>\n",
       "      <td>21</td>\n",
       "      <td>6</td>\n",
       "      <td>8.000000</td>\n",
       "      <td>195000.0</td>\n",
       "    </tr>\n",
       "    <tr>\n",
       "      <th>162430</th>\n",
       "      <td>3</td>\n",
       "      <td>30.0</td>\n",
       "      <td>6</td>\n",
       "      <td>0</td>\n",
       "      <td>25.000000</td>\n",
       "      <td>50719.0</td>\n",
       "    </tr>\n",
       "    <tr>\n",
       "      <th>162435</th>\n",
       "      <td>2</td>\n",
       "      <td>6.0</td>\n",
       "      <td>18</td>\n",
       "      <td>4</td>\n",
       "      <td>2.000000</td>\n",
       "      <td>15752.0</td>\n",
       "    </tr>\n",
       "    <tr>\n",
       "      <th>162438</th>\n",
       "      <td>3</td>\n",
       "      <td>18.0</td>\n",
       "      <td>22</td>\n",
       "      <td>2</td>\n",
       "      <td>9.000000</td>\n",
       "      <td>64254.0</td>\n",
       "    </tr>\n",
       "  </tbody>\n",
       "</table>\n",
       "<p>26610 rows × 6 columns</p>\n",
       "</div>"
      ],
      "text/plain": [
       "        EdLevel  YearsCode  DevType  Country    WorkExp  ConvertedCompYearly\n",
       "10            2        5.0       16        5   5.000000              60307.0\n",
       "12            2       12.0       15        6   5.000000              65000.0\n",
       "22            1       25.0        6        1  23.000000              97605.0\n",
       "26            2       10.0       16        6   7.538462             106960.0\n",
       "31            2       24.0       15        6  21.000000             102000.0\n",
       "...         ...        ...      ...      ...        ...                  ...\n",
       "162422        2       20.0       11        6   8.000000              75000.0\n",
       "162424        2       12.0       21        6   8.000000             195000.0\n",
       "162430        3       30.0        6        0  25.000000              50719.0\n",
       "162435        2        6.0       18        4   2.000000              15752.0\n",
       "162438        3       18.0       22        2   9.000000              64254.0\n",
       "\n",
       "[26610 rows x 6 columns]"
      ]
     },
     "execution_count": 292,
     "metadata": {},
     "output_type": "execute_result"
    }
   ],
   "source": [
    "df"
   ]
  },
  {
   "cell_type": "code",
   "execution_count": 239,
   "id": "51989058",
   "metadata": {},
   "outputs": [],
   "source": [
    "X = df.drop(\"ConvertedCompYearly\", axis=1)\n",
    "y = df[\"ConvertedCompYearly\"]"
   ]
  },
  {
   "cell_type": "code",
   "execution_count": 240,
   "id": "1d021603",
   "metadata": {},
   "outputs": [
    {
     "data": {
      "text/html": [
       "<style>#sk-container-id-2 {color: black;background-color: white;}#sk-container-id-2 pre{padding: 0;}#sk-container-id-2 div.sk-toggleable {background-color: white;}#sk-container-id-2 label.sk-toggleable__label {cursor: pointer;display: block;width: 100%;margin-bottom: 0;padding: 0.3em;box-sizing: border-box;text-align: center;}#sk-container-id-2 label.sk-toggleable__label-arrow:before {content: \"▸\";float: left;margin-right: 0.25em;color: #696969;}#sk-container-id-2 label.sk-toggleable__label-arrow:hover:before {color: black;}#sk-container-id-2 div.sk-estimator:hover label.sk-toggleable__label-arrow:before {color: black;}#sk-container-id-2 div.sk-toggleable__content {max-height: 0;max-width: 0;overflow: hidden;text-align: left;background-color: #f0f8ff;}#sk-container-id-2 div.sk-toggleable__content pre {margin: 0.2em;color: black;border-radius: 0.25em;background-color: #f0f8ff;}#sk-container-id-2 input.sk-toggleable__control:checked~div.sk-toggleable__content {max-height: 200px;max-width: 100%;overflow: auto;}#sk-container-id-2 input.sk-toggleable__control:checked~label.sk-toggleable__label-arrow:before {content: \"▾\";}#sk-container-id-2 div.sk-estimator input.sk-toggleable__control:checked~label.sk-toggleable__label {background-color: #d4ebff;}#sk-container-id-2 div.sk-label input.sk-toggleable__control:checked~label.sk-toggleable__label {background-color: #d4ebff;}#sk-container-id-2 input.sk-hidden--visually {border: 0;clip: rect(1px 1px 1px 1px);clip: rect(1px, 1px, 1px, 1px);height: 1px;margin: -1px;overflow: hidden;padding: 0;position: absolute;width: 1px;}#sk-container-id-2 div.sk-estimator {font-family: monospace;background-color: #f0f8ff;border: 1px dotted black;border-radius: 0.25em;box-sizing: border-box;margin-bottom: 0.5em;}#sk-container-id-2 div.sk-estimator:hover {background-color: #d4ebff;}#sk-container-id-2 div.sk-parallel-item::after {content: \"\";width: 100%;border-bottom: 1px solid gray;flex-grow: 1;}#sk-container-id-2 div.sk-label:hover label.sk-toggleable__label {background-color: #d4ebff;}#sk-container-id-2 div.sk-serial::before {content: \"\";position: absolute;border-left: 1px solid gray;box-sizing: border-box;top: 0;bottom: 0;left: 50%;z-index: 0;}#sk-container-id-2 div.sk-serial {display: flex;flex-direction: column;align-items: center;background-color: white;padding-right: 0.2em;padding-left: 0.2em;position: relative;}#sk-container-id-2 div.sk-item {position: relative;z-index: 1;}#sk-container-id-2 div.sk-parallel {display: flex;align-items: stretch;justify-content: center;background-color: white;position: relative;}#sk-container-id-2 div.sk-item::before, #sk-container-id-2 div.sk-parallel-item::before {content: \"\";position: absolute;border-left: 1px solid gray;box-sizing: border-box;top: 0;bottom: 0;left: 50%;z-index: -1;}#sk-container-id-2 div.sk-parallel-item {display: flex;flex-direction: column;z-index: 1;position: relative;background-color: white;}#sk-container-id-2 div.sk-parallel-item:first-child::after {align-self: flex-end;width: 50%;}#sk-container-id-2 div.sk-parallel-item:last-child::after {align-self: flex-start;width: 50%;}#sk-container-id-2 div.sk-parallel-item:only-child::after {width: 0;}#sk-container-id-2 div.sk-dashed-wrapped {border: 1px dashed gray;margin: 0 0.4em 0.5em 0.4em;box-sizing: border-box;padding-bottom: 0.4em;background-color: white;}#sk-container-id-2 div.sk-label label {font-family: monospace;font-weight: bold;display: inline-block;line-height: 1.2em;}#sk-container-id-2 div.sk-label-container {text-align: center;}#sk-container-id-2 div.sk-container {/* jupyter's `normalize.less` sets `[hidden] { display: none; }` but bootstrap.min.css set `[hidden] { display: none !important; }` so we also need the `!important` here to be able to override the default hidden behavior on the sphinx rendered scikit-learn.org. See: https://github.com/scikit-learn/scikit-learn/issues/21755 */display: inline-block !important;position: relative;}#sk-container-id-2 div.sk-text-repr-fallback {display: none;}</style><div id=\"sk-container-id-2\" class=\"sk-top-container\"><div class=\"sk-text-repr-fallback\"><pre>GridSearchCV(estimator=DecisionTreeRegressor(random_state=0),\n",
       "             param_grid={&#x27;max_depth&#x27;: [None, 2, 4, 6, 8, 10, 12]},\n",
       "             scoring=&#x27;neg_mean_squared_error&#x27;)</pre><b>In a Jupyter environment, please rerun this cell to show the HTML representation or trust the notebook. <br />On GitHub, the HTML representation is unable to render, please try loading this page with nbviewer.org.</b></div><div class=\"sk-container\" hidden><div class=\"sk-item sk-dashed-wrapped\"><div class=\"sk-label-container\"><div class=\"sk-label sk-toggleable\"><input class=\"sk-toggleable__control sk-hidden--visually\" id=\"sk-estimator-id-4\" type=\"checkbox\" ><label for=\"sk-estimator-id-4\" class=\"sk-toggleable__label sk-toggleable__label-arrow\">GridSearchCV</label><div class=\"sk-toggleable__content\"><pre>GridSearchCV(estimator=DecisionTreeRegressor(random_state=0),\n",
       "             param_grid={&#x27;max_depth&#x27;: [None, 2, 4, 6, 8, 10, 12]},\n",
       "             scoring=&#x27;neg_mean_squared_error&#x27;)</pre></div></div></div><div class=\"sk-parallel\"><div class=\"sk-parallel-item\"><div class=\"sk-item\"><div class=\"sk-label-container\"><div class=\"sk-label sk-toggleable\"><input class=\"sk-toggleable__control sk-hidden--visually\" id=\"sk-estimator-id-5\" type=\"checkbox\" ><label for=\"sk-estimator-id-5\" class=\"sk-toggleable__label sk-toggleable__label-arrow\">estimator: DecisionTreeRegressor</label><div class=\"sk-toggleable__content\"><pre>DecisionTreeRegressor(random_state=0)</pre></div></div></div><div class=\"sk-serial\"><div class=\"sk-item\"><div class=\"sk-estimator sk-toggleable\"><input class=\"sk-toggleable__control sk-hidden--visually\" id=\"sk-estimator-id-6\" type=\"checkbox\" ><label for=\"sk-estimator-id-6\" class=\"sk-toggleable__label sk-toggleable__label-arrow\">DecisionTreeRegressor</label><div class=\"sk-toggleable__content\"><pre>DecisionTreeRegressor(random_state=0)</pre></div></div></div></div></div></div></div></div></div></div>"
      ],
      "text/plain": [
       "GridSearchCV(estimator=DecisionTreeRegressor(random_state=0),\n",
       "             param_grid={'max_depth': [None, 2, 4, 6, 8, 10, 12]},\n",
       "             scoring='neg_mean_squared_error')"
      ]
     },
     "execution_count": 240,
     "metadata": {},
     "output_type": "execute_result"
    }
   ],
   "source": [
    "from sklearn.model_selection import GridSearchCV\n",
    "from sklearn.tree import DecisionTreeRegressor\n",
    "\n",
    "max_depth = [None, 2,4,6,8,10,12]\n",
    "parameters = {\"max_depth\": max_depth}\n",
    "\n",
    "regressor = DecisionTreeRegressor(random_state=0)\n",
    "gs = GridSearchCV(regressor, parameters, scoring='neg_mean_squared_error')\n",
    "gs.fit(X, y.values)"
   ]
  },
  {
   "cell_type": "code",
   "execution_count": 241,
   "id": "095c124f",
   "metadata": {},
   "outputs": [],
   "source": [
    "regressor = gs.best_estimator_\n",
    "\n",
    "regressor.fit(X, y.values)\n",
    "y_pred = regressor.predict(X)\n",
    "error = np.sqrt(mean_squared_error(y, y_pred))"
   ]
  },
  {
   "cell_type": "code",
   "execution_count": 293,
   "id": "6163a031",
   "metadata": {},
   "outputs": [
    {
     "data": {
      "text/plain": [
       "array([['Master’s degree (M.A., M.S., M.Eng., MBA, etc.)', '2',\n",
       "        'Developer, back-end', 'Germany', '2']], dtype='<U47')"
      ]
     },
     "execution_count": 293,
     "metadata": {},
     "output_type": "execute_result"
    }
   ],
   "source": [
    "X = np.array([[\"Master’s degree (M.A., M.S., M.Eng., MBA, etc.)\",2, \"Developer, back-end\",\"Germany\", 2]])"
   ]
  },
  {
   "cell_type": "code",
   "execution_count": 294,
   "id": "6e765372",
   "metadata": {},
   "outputs": [],
   "source": [
    "X[:, 3] = LabelEncoder_Country.transform(X[:,3])\n",
    "X[:, 2] = LabelEncoder_DevType.transform(X[:,2])\n",
    "X[0, 0] = dic_EdLevel[X[0, 0]] "
   ]
  },
  {
   "cell_type": "code",
   "execution_count": 297,
   "id": "6bcd064d",
   "metadata": {},
   "outputs": [
    {
     "name": "stderr",
     "output_type": "stream",
     "text": [
      "C:\\Users\\qujin\\AppData\\Local\\Packages\\PythonSoftwareFoundation.Python.3.9_qbz5n2kfra8p0\\LocalCache\\local-packages\\Python39\\site-packages\\sklearn\\base.py:420: UserWarning: X does not have valid feature names, but DecisionTreeRegressor was fitted with feature names\n",
      "  warnings.warn(\n"
     ]
    },
    {
     "data": {
      "text/plain": [
       "array([68628.57027753])"
      ]
     },
     "execution_count": 297,
     "metadata": {},
     "output_type": "execute_result"
    }
   ],
   "source": [
    "y_pred = regressor.predict(X)\n",
    "y_pred"
   ]
  },
  {
   "cell_type": "code",
   "execution_count": 298,
   "id": "c17d088d",
   "metadata": {},
   "outputs": [],
   "source": [
    "data = {\"model\": regressor, \"LabelEncoder_Country\": LabelEncoder_Country, \"LabelEncoder_DevType\": LabelEncoder_DevType}\n",
    "with open('saved_steps.pkl', 'wb') as file:\n",
    "    pickle.dump(data, file)"
   ]
  },
  {
   "cell_type": "code",
   "execution_count": null,
   "id": "044733c1",
   "metadata": {},
   "outputs": [],
   "source": []
  }
 ],
 "metadata": {
  "kernelspec": {
   "display_name": "Python 3 (ipykernel)",
   "language": "python",
   "name": "python3"
  },
  "language_info": {
   "codemirror_mode": {
    "name": "ipython",
    "version": 3
   },
   "file_extension": ".py",
   "mimetype": "text/x-python",
   "name": "python",
   "nbconvert_exporter": "python",
   "pygments_lexer": "ipython3",
   "version": "3.9.13"
  }
 },
 "nbformat": 4,
 "nbformat_minor": 5
}
