{
 "cells": [
  {
   "cell_type": "code",
   "execution_count": 146,
   "id": "57706d04",
   "metadata": {},
   "outputs": [],
   "source": [
    "import pandas as pd\n",
    "import numpy as np\n",
    "import matplotlib.pyplot as plt\n",
    "import pickle\n",
    "from sklearn.metrics import mean_squared_error"
   ]
  },
  {
   "cell_type": "markdown",
   "id": "697a09db",
   "metadata": {},
   "source": [
    "### Import data"
   ]
  },
  {
   "cell_type": "markdown",
   "id": "d3a6c31f",
   "metadata": {},
   "source": [
    "dataset comes from https://insights.stackoverflow.com/survey"
   ]
  },
  {
   "cell_type": "code",
   "execution_count": 147,
   "id": "86ef1f1f",
   "metadata": {},
   "outputs": [],
   "source": [
    "df_2023 = pd.read_csv(\"data/survey_results_public_2023.csv\", usecols = [\"Country\",\"DevType\",\"EdLevel\",\"WorkExp\",\"YearsCode\",\"ConvertedCompYearly\",\"Employment\"])\n",
    "df_2022 = pd.read_csv(\"data/survey_results_public_2022.csv\", usecols =[\"Country\",\"DevType\",\"EdLevel\",\"WorkExp\",\"YearsCode\",\"ConvertedCompYearly\",\"Employment\"])\n",
    "df = pd.concat([df_2022, df_2023], ignore_index = True)"
   ]
  },
  {
   "cell_type": "code",
   "execution_count": 148,
   "id": "8cf8d555",
   "metadata": {},
   "outputs": [],
   "source": [
    "#Can also include \"Industry\",\"OrgSize\",\n",
    "df = df[[\"Country\",\"DevType\",\"Age\", \"EdLevel\",\"WorkExp\",\"YearsCode\",\"ConvertedCompYearly\",\"Employment\"]]"
   ]
  },
  {
   "cell_type": "code",
   "execution_count": 149,
   "id": "1de79910",
   "metadata": {},
   "outputs": [
    {
     "data": {
      "text/html": [
       "<div>\n",
       "<style scoped>\n",
       "    .dataframe tbody tr th:only-of-type {\n",
       "        vertical-align: middle;\n",
       "    }\n",
       "\n",
       "    .dataframe tbody tr th {\n",
       "        vertical-align: top;\n",
       "    }\n",
       "\n",
       "    .dataframe thead th {\n",
       "        text-align: right;\n",
       "    }\n",
       "</style>\n",
       "<table border=\"1\" class=\"dataframe\">\n",
       "  <thead>\n",
       "    <tr style=\"text-align: right;\">\n",
       "      <th></th>\n",
       "      <th>Country</th>\n",
       "      <th>DevType</th>\n",
       "      <th>Age</th>\n",
       "      <th>EdLevel</th>\n",
       "      <th>WorkExp</th>\n",
       "      <th>YearsCode</th>\n",
       "      <th>ConvertedCompYearly</th>\n",
       "      <th>Employment</th>\n",
       "    </tr>\n",
       "  </thead>\n",
       "  <tbody>\n",
       "    <tr>\n",
       "      <th>0</th>\n",
       "      <td>NaN</td>\n",
       "      <td>NaN</td>\n",
       "      <td>NaN</td>\n",
       "      <td>NaN</td>\n",
       "      <td>NaN</td>\n",
       "      <td>NaN</td>\n",
       "      <td>NaN</td>\n",
       "      <td>NaN</td>\n",
       "    </tr>\n",
       "    <tr>\n",
       "      <th>1</th>\n",
       "      <td>Canada</td>\n",
       "      <td>NaN</td>\n",
       "      <td>NaN</td>\n",
       "      <td>NaN</td>\n",
       "      <td>NaN</td>\n",
       "      <td>NaN</td>\n",
       "      <td>NaN</td>\n",
       "      <td>Employed, full-time</td>\n",
       "    </tr>\n",
       "    <tr>\n",
       "      <th>2</th>\n",
       "      <td>United Kingdom of Great Britain and Northern I...</td>\n",
       "      <td>Data scientist or machine learning specialist;...</td>\n",
       "      <td>25-34 years old</td>\n",
       "      <td>Master’s degree (M.A., M.S., M.Eng., MBA, etc.)</td>\n",
       "      <td>NaN</td>\n",
       "      <td>14</td>\n",
       "      <td>40205.0</td>\n",
       "      <td>Employed, full-time</td>\n",
       "    </tr>\n",
       "  </tbody>\n",
       "</table>\n",
       "</div>"
      ],
      "text/plain": [
       "                                             Country  \\\n",
       "0                                                NaN   \n",
       "1                                             Canada   \n",
       "2  United Kingdom of Great Britain and Northern I...   \n",
       "\n",
       "                                             DevType              Age  \\\n",
       "0                                                NaN              NaN   \n",
       "1                                                NaN              NaN   \n",
       "2  Data scientist or machine learning specialist;...  25-34 years old   \n",
       "\n",
       "                                           EdLevel  WorkExp YearsCode  \\\n",
       "0                                              NaN      NaN       NaN   \n",
       "1                                              NaN      NaN       NaN   \n",
       "2  Master’s degree (M.A., M.S., M.Eng., MBA, etc.)      NaN        14   \n",
       "\n",
       "   ConvertedCompYearly           Employment  \n",
       "0                  NaN                  NaN  \n",
       "1                  NaN  Employed, full-time  \n",
       "2              40205.0  Employed, full-time  "
      ]
     },
     "execution_count": 149,
     "metadata": {},
     "output_type": "execute_result"
    }
   ],
   "source": [
    "df.head(3)"
   ]
  },
  {
   "cell_type": "code",
   "execution_count": 150,
   "id": "74d8729c",
   "metadata": {},
   "outputs": [],
   "source": [
    "df = df[df.Employment == \"Employed, full-time\"]\n",
    "df.drop(\"Employment\", axis=1, inplace=True)"
   ]
  },
  {
   "cell_type": "code",
   "execution_count": 151,
   "id": "ba1bbb86",
   "metadata": {},
   "outputs": [
    {
     "name": "stdout",
     "output_type": "stream",
     "text": [
      "<class 'pandas.core.frame.DataFrame'>\n",
      "Int64Index: 96710 entries, 1 to 162451\n",
      "Data columns (total 7 columns):\n",
      " #   Column               Non-Null Count  Dtype  \n",
      "---  ------               --------------  -----  \n",
      " 0   Country              96710 non-null  object \n",
      " 1   DevType              96338 non-null  object \n",
      " 2   Age                  96322 non-null  object \n",
      " 3   EdLevel              96642 non-null  object \n",
      " 4   WorkExp              65089 non-null  float64\n",
      " 5   YearsCode            96211 non-null  object \n",
      " 6   ConvertedCompYearly  70803 non-null  float64\n",
      "dtypes: float64(2), object(5)\n",
      "memory usage: 5.9+ MB\n"
     ]
    }
   ],
   "source": [
    "df.info()"
   ]
  },
  {
   "cell_type": "markdown",
   "id": "f3ff45e1",
   "metadata": {},
   "source": [
    "### Drop value"
   ]
  },
  {
   "cell_type": "code",
   "execution_count": 152,
   "id": "465ce9a7",
   "metadata": {},
   "outputs": [
    {
     "data": {
      "text/plain": [
       "Country                    0\n",
       "DevType                  372\n",
       "Age                      388\n",
       "EdLevel                   68\n",
       "WorkExp                31621\n",
       "YearsCode                499\n",
       "ConvertedCompYearly    25907\n",
       "dtype: int64"
      ]
     },
     "execution_count": 152,
     "metadata": {},
     "output_type": "execute_result"
    }
   ],
   "source": [
    "df.isnull().sum()"
   ]
  },
  {
   "cell_type": "code",
   "execution_count": 153,
   "id": "820c089d",
   "metadata": {},
   "outputs": [
    {
     "data": {
      "text/plain": [
       "6420"
      ]
     },
     "execution_count": 153,
     "metadata": {},
     "output_type": "execute_result"
    }
   ],
   "source": [
    "len(df.DevType.value_counts())"
   ]
  },
  {
   "cell_type": "code",
   "execution_count": 154,
   "id": "50e54d56",
   "metadata": {},
   "outputs": [
    {
     "data": {
      "text/plain": [
       "Developer, full-stack                                                                                           23242\n",
       "Developer, back-end                                                                                             15098\n",
       "Developer, front-end                                                                                             5443\n",
       "Developer, desktop or enterprise applications                                                                    3403\n",
       "Developer, mobile                                                                                                2965\n",
       "Other (please specify):                                                                                          2848\n",
       "Engineering manager                                                                                              2220\n",
       "Developer, embedded applications or devices                                                                      1959\n",
       "Data scientist or machine learning specialist                                                                    1541\n",
       "Developer, front-end;Developer, full-stack;Developer, back-end                                                   1327\n",
       "Engineer, data                                                                                                   1295\n",
       "DevOps specialist                                                                                                1251\n",
       "Developer, full-stack;Developer, back-end                                                                        1220\n",
       "Senior Executive (C-Suite, VP, etc.)                                                                             1164\n",
       "Academic researcher                                                                                              1037\n",
       "Research & Development role                                                                                      1009\n",
       "Cloud infrastructure engineer                                                                                     942\n",
       "Data or business analyst                                                                                          787\n",
       "Developer, front-end;Developer, full-stack                                                                        726\n",
       "Developer, QA or test                                                                                             726\n",
       "System administrator                                                                                              609\n",
       "Developer, game or graphics                                                                                       592\n",
       "Developer, back-end;Developer, desktop or enterprise applications                                                 543\n",
       "Project manager                                                                                                   505\n",
       "Engineer, site reliability                                                                                        451\n",
       "Product manager                                                                                                   451\n",
       "Security professional                                                                                             435\n",
       "Developer, front-end;Developer, full-stack;Developer, back-end;Developer, desktop or enterprise applications      362\n",
       "Scientist                                                                                                         343\n",
       "Developer, back-end;Cloud infrastructure engineer                                                                 305\n",
       "Name: DevType, dtype: int64"
      ]
     },
     "execution_count": 154,
     "metadata": {},
     "output_type": "execute_result"
    }
   ],
   "source": [
    "df.DevType.value_counts().head(30)"
   ]
  },
  {
   "cell_type": "markdown",
   "id": "4ebd03d6",
   "metadata": {},
   "source": [
    "Too many DevType, only keep top 30"
   ]
  },
  {
   "cell_type": "code",
   "execution_count": 161,
   "id": "e3ccb479",
   "metadata": {},
   "outputs": [],
   "source": [
    "df.DevType = df.DevType.replace(\"Other (please specify):\", \"Other\")"
   ]
  },
  {
   "cell_type": "code",
   "execution_count": 163,
   "id": "5aa18a30",
   "metadata": {},
   "outputs": [],
   "source": [
    "DevType_list = df.DevType.value_counts().head(30).index.to_list()"
   ]
  },
  {
   "cell_type": "code",
   "execution_count": 164,
   "id": "674d8a87",
   "metadata": {},
   "outputs": [
    {
     "data": {
      "text/plain": [
       "['Developer, full-stack',\n",
       " 'Developer, back-end',\n",
       " 'Developer, front-end',\n",
       " 'Developer, desktop or enterprise applications',\n",
       " 'Developer, mobile',\n",
       " 'Other',\n",
       " 'Engineering manager',\n",
       " 'Developer, embedded applications or devices',\n",
       " 'Data scientist or machine learning specialist',\n",
       " 'Developer, front-end;Developer, full-stack;Developer, back-end',\n",
       " 'Engineer, data',\n",
       " 'DevOps specialist',\n",
       " 'Developer, full-stack;Developer, back-end',\n",
       " 'Senior Executive (C-Suite, VP, etc.)',\n",
       " 'Academic researcher',\n",
       " 'Research & Development role',\n",
       " 'Cloud infrastructure engineer',\n",
       " 'Data or business analyst',\n",
       " 'Developer, front-end;Developer, full-stack',\n",
       " 'Developer, QA or test',\n",
       " 'System administrator',\n",
       " 'Developer, game or graphics',\n",
       " 'Developer, back-end;Developer, desktop or enterprise applications',\n",
       " 'Project manager',\n",
       " 'Engineer, site reliability',\n",
       " 'Product manager',\n",
       " 'Security professional',\n",
       " 'Developer, front-end;Developer, full-stack;Developer, back-end;Developer, desktop or enterprise applications',\n",
       " 'Scientist',\n",
       " 'Developer, back-end;Cloud infrastructure engineer']"
      ]
     },
     "execution_count": 164,
     "metadata": {},
     "output_type": "execute_result"
    }
   ],
   "source": [
    "DevType_list"
   ]
  },
  {
   "cell_type": "code",
   "execution_count": 156,
   "id": "0e84cc98",
   "metadata": {},
   "outputs": [],
   "source": [
    "df = df[df.DevType.isin(DevType_list)]"
   ]
  },
  {
   "cell_type": "code",
   "execution_count": 157,
   "id": "88fa56b8",
   "metadata": {},
   "outputs": [
    {
     "data": {
      "text/plain": [
       "Developer, full-stack                                                                                           23242\n",
       "Developer, back-end                                                                                             15098\n",
       "Developer, front-end                                                                                             5443\n",
       "Developer, desktop or enterprise applications                                                                    3403\n",
       "Developer, mobile                                                                                                2965\n",
       "Other (please specify):                                                                                          2848\n",
       "Engineering manager                                                                                              2220\n",
       "Developer, embedded applications or devices                                                                      1959\n",
       "Data scientist or machine learning specialist                                                                    1541\n",
       "Developer, front-end;Developer, full-stack;Developer, back-end                                                   1327\n",
       "Engineer, data                                                                                                   1295\n",
       "DevOps specialist                                                                                                1251\n",
       "Developer, full-stack;Developer, back-end                                                                        1220\n",
       "Senior Executive (C-Suite, VP, etc.)                                                                             1164\n",
       "Academic researcher                                                                                              1037\n",
       "Research & Development role                                                                                      1009\n",
       "Cloud infrastructure engineer                                                                                     942\n",
       "Data or business analyst                                                                                          787\n",
       "Developer, front-end;Developer, full-stack                                                                        726\n",
       "Developer, QA or test                                                                                             726\n",
       "System administrator                                                                                              609\n",
       "Developer, game or graphics                                                                                       592\n",
       "Developer, back-end;Developer, desktop or enterprise applications                                                 543\n",
       "Project manager                                                                                                   505\n",
       "Engineer, site reliability                                                                                        451\n",
       "Product manager                                                                                                   451\n",
       "Security professional                                                                                             435\n",
       "Developer, front-end;Developer, full-stack;Developer, back-end;Developer, desktop or enterprise applications      362\n",
       "Scientist                                                                                                         343\n",
       "Developer, back-end;Cloud infrastructure engineer                                                                 305\n",
       "Name: DevType, dtype: int64"
      ]
     },
     "execution_count": 157,
     "metadata": {},
     "output_type": "execute_result"
    }
   ],
   "source": [
    "df.DevType.value_counts()"
   ]
  },
  {
   "cell_type": "code",
   "execution_count": 119,
   "id": "6fd9b5c4",
   "metadata": {},
   "outputs": [
    {
     "data": {
      "text/plain": [
       "25-34 years old       45186\n",
       "35-44 years old       25674\n",
       "18-24 years old       11746\n",
       "45-54 years old        9551\n",
       "55-64 years old        3346\n",
       "65 years or older       468\n",
       "Under 18 years old      118\n",
       "Name: Age, dtype: int64"
      ]
     },
     "execution_count": 119,
     "metadata": {},
     "output_type": "execute_result"
    }
   ],
   "source": [
    "df = df[df.Age != \"Prefer not to say\"]\n",
    "df.Age.value_counts()"
   ]
  },
  {
   "cell_type": "code",
   "execution_count": 120,
   "id": "22e10c5a",
   "metadata": {},
   "outputs": [],
   "source": [
    "df.YearsCode=df.YearsCode.replace(\"More than 50 years\", \"55\")\n",
    "df.YearsCode=df.YearsCode.replace(\"Less than 1 year\", \"0.5\")\n",
    "df = df.dropna(subset=['YearsCode'])"
   ]
  },
  {
   "cell_type": "code",
   "execution_count": 121,
   "id": "4f65b22e",
   "metadata": {},
   "outputs": [],
   "source": [
    "df = df[df.ConvertedCompYearly.notnull()]"
   ]
  },
  {
   "cell_type": "code",
   "execution_count": 122,
   "id": "4681a28f",
   "metadata": {},
   "outputs": [],
   "source": [
    "df.loc[df['DevType'].isnull(), 'DevType'] = \"Unknown\""
   ]
  },
  {
   "cell_type": "code",
   "execution_count": 123,
   "id": "b982b97b",
   "metadata": {},
   "outputs": [],
   "source": [
    "group_columns = [\"Country\", \"DevType\",\"Age\",\"EdLevel\", \"YearsCode\"]\n",
    "grouped = df.groupby(group_columns).transform(\"mean\")"
   ]
  },
  {
   "cell_type": "code",
   "execution_count": 124,
   "id": "abced77c",
   "metadata": {},
   "outputs": [],
   "source": [
    "df['WorkExp'] = df['WorkExp'].fillna(grouped['WorkExp'])"
   ]
  },
  {
   "cell_type": "code",
   "execution_count": 125,
   "id": "eabb5301",
   "metadata": {},
   "outputs": [],
   "source": [
    "df = df.dropna()"
   ]
  },
  {
   "cell_type": "code",
   "execution_count": 59,
   "id": "60564325",
   "metadata": {},
   "outputs": [
    {
     "data": {
      "text/plain": [
       "Country                0\n",
       "DevType                0\n",
       "Age                    0\n",
       "EdLevel                0\n",
       "WorkExp                0\n",
       "YearsCode              0\n",
       "ConvertedCompYearly    0\n",
       "dtype: int64"
      ]
     },
     "execution_count": 59,
     "metadata": {},
     "output_type": "execute_result"
    }
   ],
   "source": [
    "df.isnull().sum()"
   ]
  },
  {
   "cell_type": "markdown",
   "id": "64555b0f",
   "metadata": {},
   "source": [
    "### Combine similar content"
   ]
  },
  {
   "cell_type": "code",
   "execution_count": 60,
   "id": "68c72194",
   "metadata": {},
   "outputs": [],
   "source": [
    "df.DevType = df.DevType.replace(\"Other (please specify):\", \"Others\")\n",
    "df.DevType = df.DevType.replace(\"Unknown\", \"Others\")"
   ]
  },
  {
   "cell_type": "markdown",
   "id": "27370458",
   "metadata": {},
   "source": [
    "### Convert categorical value to numeric value"
   ]
  },
  {
   "cell_type": "code",
   "execution_count": 61,
   "id": "8d3ff2fe",
   "metadata": {},
   "outputs": [
    {
     "data": {
      "text/plain": [
       "['United States of America',\n",
       " 'Germany',\n",
       " 'United Kingdom of Great Britain and Northern Ireland',\n",
       " 'India',\n",
       " 'Canada',\n",
       " 'France',\n",
       " 'Brazil',\n",
       " 'Spain',\n",
       " 'Netherlands',\n",
       " 'Australia']"
      ]
     },
     "execution_count": 61,
     "metadata": {},
     "output_type": "execute_result"
    }
   ],
   "source": [
    "country_to_select = df.Country.value_counts().index[df.Country.value_counts() > 1200].to_list()\n",
    "country_to_select"
   ]
  },
  {
   "cell_type": "code",
   "execution_count": 62,
   "id": "ebf4f956",
   "metadata": {},
   "outputs": [],
   "source": [
    "df = df[df['Country'].isin(country_to_select)]"
   ]
  },
  {
   "cell_type": "code",
   "execution_count": 63,
   "id": "159359ed",
   "metadata": {},
   "outputs": [
    {
     "data": {
      "image/png": "[encoded data removed]",
      "text/plain": [
       "<Figure size 864x504 with 1 Axes>"
      ]
     },
     "metadata": {
      "needs_background": "light"
     },
     "output_type": "display_data"
    }
   ],
   "source": [
    "fig, ax = plt.subplots(1,1, figsize=(12, 7))\n",
    "df.boxplot('ConvertedCompYearly', 'Country', ax=ax)\n",
    "plt.suptitle('ConvertedCompYearly(US$)')\n",
    "plt.title('')\n",
    "plt.ylabel('Salary')\n",
    "plt.xticks(rotation=90)\n",
    "plt.show()"
   ]
  },
  {
   "cell_type": "code",
   "execution_count": 64,
   "id": "104a1f51",
   "metadata": {},
   "outputs": [],
   "source": [
    "df = df[df[\"ConvertedCompYearly\"] <= 250000]\n",
    "df = df[df[\"ConvertedCompYearly\"] >= 10000]"
   ]
  },
  {
   "cell_type": "code",
   "execution_count": 65,
   "id": "493550f4",
   "metadata": {},
   "outputs": [
    {
     "data": {
      "image/png": "[encoded data removed]",
      "text/plain": [
       "<Figure size 864x504 with 1 Axes>"
      ]
     },
     "metadata": {
      "needs_background": "light"
     },
     "output_type": "display_data"
    }
   ],
   "source": [
    "fig, ax = plt.subplots(1,1, figsize=(12, 7))\n",
    "df.boxplot('ConvertedCompYearly', 'Country', ax=ax)\n",
    "plt.suptitle('ConvertedCompYearly(US$)')\n",
    "plt.title('')\n",
    "plt.ylabel('Salary')\n",
    "plt.xticks(rotation=90)\n",
    "plt.show()"
   ]
  },
  {
   "cell_type": "code",
   "execution_count": 66,
   "id": "8e717f75",
   "metadata": {},
   "outputs": [],
   "source": [
    "dic_Age = {\"Under 18 years old\": 15, \"18-24 years old\": 18, \"25-34 years old\": 25, \"35-44 years old\": 35, \"45-54 years old\": 45, \"55-64 years old\": 55, \"65 years or older\": 65}"
   ]
  },
  {
   "cell_type": "code",
   "execution_count": 67,
   "id": "7563066f",
   "metadata": {},
   "outputs": [],
   "source": [
    "df = df.replace(dic_Age)"
   ]
  },
  {
   "cell_type": "code",
   "execution_count": 68,
   "id": "d4896e5e",
   "metadata": {},
   "outputs": [],
   "source": [
    "dic_EdLevel = {\"Something else\": 1, \"Primary/elementary school\": 1, \"Associate degree (A.A., A.S., etc.)\": 1, \"Secondary school (e.g. American high school, German Realschule or Gymnasium, etc.)\": 1, \"Some college/university study without earning a degree\": 1, \"Bachelor’s degree (B.A., B.S., B.Eng., etc.)\":2, \"Master’s degree (M.A., M.S., M.Eng., MBA, etc.)\":3,\"Professional degree (JD, MD, Ph.D, Ed.D, etc.)\": 4, \"Professional degree (JD, MD, etc.)\": 4, \"Other doctoral degree (Ph.D., Ed.D., etc.)\": 4}"
   ]
  },
  {
   "cell_type": "code",
   "execution_count": 69,
   "id": "9121b837",
   "metadata": {},
   "outputs": [],
   "source": [
    "df = df.replace(dic_EdLevel)"
   ]
  },
  {
   "cell_type": "code",
   "execution_count": 70,
   "id": "9d0af541",
   "metadata": {},
   "outputs": [
    {
     "data": {
      "text/plain": [
       "2    18680\n",
       "3     8813\n",
       "1     6245\n",
       "4     1480\n",
       "Name: EdLevel, dtype: int64"
      ]
     },
     "execution_count": 70,
     "metadata": {},
     "output_type": "execute_result"
    }
   ],
   "source": [
    "df.EdLevel.value_counts()"
   ]
  },
  {
   "cell_type": "code",
   "execution_count": 71,
   "id": "107e0d5a",
   "metadata": {},
   "outputs": [
    {
     "data": {
      "text/html": [
       "<div>\n",
       "<style scoped>\n",
       "    .dataframe tbody tr th:only-of-type {\n",
       "        vertical-align: middle;\n",
       "    }\n",
       "\n",
       "    .dataframe tbody tr th {\n",
       "        vertical-align: top;\n",
       "    }\n",
       "\n",
       "    .dataframe thead th {\n",
       "        text-align: right;\n",
       "    }\n",
       "</style>\n",
       "<table border=\"1\" class=\"dataframe\">\n",
       "  <thead>\n",
       "    <tr style=\"text-align: right;\">\n",
       "      <th></th>\n",
       "      <th>Country</th>\n",
       "      <th>DevType</th>\n",
       "      <th>Age</th>\n",
       "      <th>EdLevel</th>\n",
       "      <th>WorkExp</th>\n",
       "      <th>YearsCode</th>\n",
       "      <th>ConvertedCompYearly</th>\n",
       "    </tr>\n",
       "  </thead>\n",
       "  <tbody>\n",
       "    <tr>\n",
       "      <th>8</th>\n",
       "      <td>Netherlands</td>\n",
       "      <td>Developer, back-end</td>\n",
       "      <td>25</td>\n",
       "      <td>3</td>\n",
       "      <td>6.000000</td>\n",
       "      <td>6</td>\n",
       "      <td>49056.0</td>\n",
       "    </tr>\n",
       "    <tr>\n",
       "      <th>12</th>\n",
       "      <td>United States of America</td>\n",
       "      <td>Developer, full-stack</td>\n",
       "      <td>25</td>\n",
       "      <td>2</td>\n",
       "      <td>5.000000</td>\n",
       "      <td>12</td>\n",
       "      <td>65000.0</td>\n",
       "    </tr>\n",
       "    <tr>\n",
       "      <th>22</th>\n",
       "      <td>Canada</td>\n",
       "      <td>Developer, back-end</td>\n",
       "      <td>35</td>\n",
       "      <td>1</td>\n",
       "      <td>23.000000</td>\n",
       "      <td>25</td>\n",
       "      <td>97605.0</td>\n",
       "    </tr>\n",
       "    <tr>\n",
       "      <th>25</th>\n",
       "      <td>Germany</td>\n",
       "      <td>Developer, back-end;Developer, mobile</td>\n",
       "      <td>25</td>\n",
       "      <td>3</td>\n",
       "      <td>9.000000</td>\n",
       "      <td>16</td>\n",
       "      <td>90647.0</td>\n",
       "    </tr>\n",
       "    <tr>\n",
       "      <th>26</th>\n",
       "      <td>United States of America</td>\n",
       "      <td>Developer, full-stack;Developer, back-end</td>\n",
       "      <td>25</td>\n",
       "      <td>2</td>\n",
       "      <td>7.833333</td>\n",
       "      <td>10</td>\n",
       "      <td>106960.0</td>\n",
       "    </tr>\n",
       "  </tbody>\n",
       "</table>\n",
       "</div>"
      ],
      "text/plain": [
       "                     Country                                    DevType  Age  \\\n",
       "8                Netherlands                        Developer, back-end   25   \n",
       "12  United States of America                      Developer, full-stack   25   \n",
       "22                    Canada                        Developer, back-end   35   \n",
       "25                   Germany      Developer, back-end;Developer, mobile   25   \n",
       "26  United States of America  Developer, full-stack;Developer, back-end   25   \n",
       "\n",
       "    EdLevel    WorkExp YearsCode  ConvertedCompYearly  \n",
       "8         3   6.000000         6              49056.0  \n",
       "12        2   5.000000        12              65000.0  \n",
       "22        1  23.000000        25              97605.0  \n",
       "25        3   9.000000        16              90647.0  \n",
       "26        2   7.833333        10             106960.0  "
      ]
     },
     "execution_count": 71,
     "metadata": {},
     "output_type": "execute_result"
    }
   ],
   "source": [
    "df.head()"
   ]
  },
  {
   "cell_type": "code",
   "execution_count": 72,
   "id": "16c90cf0",
   "metadata": {
    "scrolled": true
   },
   "outputs": [
    {
     "name": "stdout",
     "output_type": "stream",
     "text": [
      "<class 'pandas.core.frame.DataFrame'>\n",
      "Int64Index: 35218 entries, 8 to 162438\n",
      "Data columns (total 7 columns):\n",
      " #   Column               Non-Null Count  Dtype  \n",
      "---  ------               --------------  -----  \n",
      " 0   Country              35218 non-null  object \n",
      " 1   DevType              35218 non-null  object \n",
      " 2   Age                  35218 non-null  int64  \n",
      " 3   EdLevel              35218 non-null  int64  \n",
      " 4   WorkExp              35218 non-null  float64\n",
      " 5   YearsCode            35218 non-null  object \n",
      " 6   ConvertedCompYearly  35218 non-null  float64\n",
      "dtypes: float64(2), int64(2), object(3)\n",
      "memory usage: 2.1+ MB\n"
     ]
    }
   ],
   "source": [
    "df.info()"
   ]
  },
  {
   "cell_type": "code",
   "execution_count": 73,
   "id": "8a410a17",
   "metadata": {},
   "outputs": [],
   "source": [
    "df[\"EdLevel\"] = pd.to_numeric(df[\"EdLevel\"] )"
   ]
  },
  {
   "cell_type": "code",
   "execution_count": 74,
   "id": "72f42bdd",
   "metadata": {},
   "outputs": [],
   "source": [
    "df[\"YearsCode\"] = pd.to_numeric(df[\"YearsCode\"])"
   ]
  },
  {
   "cell_type": "code",
   "execution_count": 75,
   "id": "faa9f258",
   "metadata": {},
   "outputs": [
    {
     "name": "stdout",
     "output_type": "stream",
     "text": [
      "<class 'pandas.core.frame.DataFrame'>\n",
      "Int64Index: 35218 entries, 8 to 162438\n",
      "Data columns (total 7 columns):\n",
      " #   Column               Non-Null Count  Dtype  \n",
      "---  ------               --------------  -----  \n",
      " 0   Country              35218 non-null  object \n",
      " 1   DevType              35218 non-null  object \n",
      " 2   Age                  35218 non-null  int64  \n",
      " 3   EdLevel              35218 non-null  int64  \n",
      " 4   WorkExp              35218 non-null  float64\n",
      " 5   YearsCode            35218 non-null  float64\n",
      " 6   ConvertedCompYearly  35218 non-null  float64\n",
      "dtypes: float64(3), int64(2), object(2)\n",
      "memory usage: 2.1+ MB\n"
     ]
    }
   ],
   "source": [
    "df.info()"
   ]
  },
  {
   "cell_type": "code",
   "execution_count": 154,
   "id": "7350036d",
   "metadata": {
    "scrolled": false
   },
   "outputs": [],
   "source": [
    "from sklearn.preprocessing import LabelEncoder\n",
    "#df = pd.get_dummies(df, columns= [\"Country\", \"DevType\"])\n",
    "LabelEncoder_Country = LabelEncoder()\n",
    "df['Country'] = LabelEncoder_Country.fit_transform(df['Country']) \n",
    "LabelEncoder_DevType = LabelEncoder()\n",
    "df['DevType'] = LabelEncoder_DevType.fit_transform(df['DevType']) "
   ]
  },
  {
   "cell_type": "code",
   "execution_count": 155,
   "id": "064bd5ea",
   "metadata": {
    "scrolled": true
   },
   "outputs": [
    {
     "data": {
      "text/html": [
       "<div>\n",
       "<style scoped>\n",
       "    .dataframe tbody tr th:only-of-type {\n",
       "        vertical-align: middle;\n",
       "    }\n",
       "\n",
       "    .dataframe tbody tr th {\n",
       "        vertical-align: top;\n",
       "    }\n",
       "\n",
       "    .dataframe thead th {\n",
       "        text-align: right;\n",
       "    }\n",
       "</style>\n",
       "<table border=\"1\" class=\"dataframe\">\n",
       "  <thead>\n",
       "    <tr style=\"text-align: right;\">\n",
       "      <th></th>\n",
       "      <th>Country</th>\n",
       "      <th>DevType</th>\n",
       "      <th>Age</th>\n",
       "      <th>EdLevel</th>\n",
       "      <th>WorkExp</th>\n",
       "      <th>YearsCode</th>\n",
       "      <th>ConvertedCompYearly</th>\n",
       "    </tr>\n",
       "  </thead>\n",
       "  <tbody>\n",
       "    <tr>\n",
       "      <th>8</th>\n",
       "      <td>6.0</td>\n",
       "      <td>423.0</td>\n",
       "      <td>25.0</td>\n",
       "      <td>3.0</td>\n",
       "      <td>6.000000</td>\n",
       "      <td>6.0</td>\n",
       "      <td>49056.0</td>\n",
       "    </tr>\n",
       "    <tr>\n",
       "      <th>12</th>\n",
       "      <td>9.0</td>\n",
       "      <td>1658.0</td>\n",
       "      <td>25.0</td>\n",
       "      <td>2.0</td>\n",
       "      <td>5.000000</td>\n",
       "      <td>12.0</td>\n",
       "      <td>65000.0</td>\n",
       "    </tr>\n",
       "    <tr>\n",
       "      <th>22</th>\n",
       "      <td>2.0</td>\n",
       "      <td>423.0</td>\n",
       "      <td>35.0</td>\n",
       "      <td>1.0</td>\n",
       "      <td>23.000000</td>\n",
       "      <td>25.0</td>\n",
       "      <td>97605.0</td>\n",
       "    </tr>\n",
       "    <tr>\n",
       "      <th>25</th>\n",
       "      <td>4.0</td>\n",
       "      <td>599.0</td>\n",
       "      <td>25.0</td>\n",
       "      <td>3.0</td>\n",
       "      <td>9.000000</td>\n",
       "      <td>16.0</td>\n",
       "      <td>90647.0</td>\n",
       "    </tr>\n",
       "    <tr>\n",
       "      <th>26</th>\n",
       "      <td>9.0</td>\n",
       "      <td>1783.0</td>\n",
       "      <td>25.0</td>\n",
       "      <td>2.0</td>\n",
       "      <td>7.833333</td>\n",
       "      <td>10.0</td>\n",
       "      <td>106960.0</td>\n",
       "    </tr>\n",
       "    <tr>\n",
       "      <th>...</th>\n",
       "      <td>...</td>\n",
       "      <td>...</td>\n",
       "      <td>...</td>\n",
       "      <td>...</td>\n",
       "      <td>...</td>\n",
       "      <td>...</td>\n",
       "      <td>...</td>\n",
       "    </tr>\n",
       "    <tr>\n",
       "      <th>162422</th>\n",
       "      <td>9.0</td>\n",
       "      <td>784.0</td>\n",
       "      <td>35.0</td>\n",
       "      <td>2.0</td>\n",
       "      <td>8.000000</td>\n",
       "      <td>20.0</td>\n",
       "      <td>75000.0</td>\n",
       "    </tr>\n",
       "    <tr>\n",
       "      <th>162424</th>\n",
       "      <td>9.0</td>\n",
       "      <td>2625.0</td>\n",
       "      <td>25.0</td>\n",
       "      <td>2.0</td>\n",
       "      <td>8.000000</td>\n",
       "      <td>12.0</td>\n",
       "      <td>195000.0</td>\n",
       "    </tr>\n",
       "    <tr>\n",
       "      <th>162430</th>\n",
       "      <td>1.0</td>\n",
       "      <td>423.0</td>\n",
       "      <td>35.0</td>\n",
       "      <td>3.0</td>\n",
       "      <td>25.000000</td>\n",
       "      <td>30.0</td>\n",
       "      <td>50719.0</td>\n",
       "    </tr>\n",
       "    <tr>\n",
       "      <th>162435</th>\n",
       "      <td>5.0</td>\n",
       "      <td>2214.0</td>\n",
       "      <td>18.0</td>\n",
       "      <td>2.0</td>\n",
       "      <td>2.000000</td>\n",
       "      <td>6.0</td>\n",
       "      <td>15752.0</td>\n",
       "    </tr>\n",
       "    <tr>\n",
       "      <th>162438</th>\n",
       "      <td>3.0</td>\n",
       "      <td>2663.0</td>\n",
       "      <td>25.0</td>\n",
       "      <td>3.0</td>\n",
       "      <td>9.000000</td>\n",
       "      <td>18.0</td>\n",
       "      <td>64254.0</td>\n",
       "    </tr>\n",
       "  </tbody>\n",
       "</table>\n",
       "<p>35218 rows × 7 columns</p>\n",
       "</div>"
      ],
      "text/plain": [
       "        Country  DevType   Age  EdLevel    WorkExp  YearsCode  \\\n",
       "8           6.0    423.0  25.0      3.0   6.000000        6.0   \n",
       "12          9.0   1658.0  25.0      2.0   5.000000       12.0   \n",
       "22          2.0    423.0  35.0      1.0  23.000000       25.0   \n",
       "25          4.0    599.0  25.0      3.0   9.000000       16.0   \n",
       "26          9.0   1783.0  25.0      2.0   7.833333       10.0   \n",
       "...         ...      ...   ...      ...        ...        ...   \n",
       "162422      9.0    784.0  35.0      2.0   8.000000       20.0   \n",
       "162424      9.0   2625.0  25.0      2.0   8.000000       12.0   \n",
       "162430      1.0    423.0  35.0      3.0  25.000000       30.0   \n",
       "162435      5.0   2214.0  18.0      2.0   2.000000        6.0   \n",
       "162438      3.0   2663.0  25.0      3.0   9.000000       18.0   \n",
       "\n",
       "        ConvertedCompYearly  \n",
       "8                   49056.0  \n",
       "12                  65000.0  \n",
       "22                  97605.0  \n",
       "25                  90647.0  \n",
       "26                 106960.0  \n",
       "...                     ...  \n",
       "162422              75000.0  \n",
       "162424             195000.0  \n",
       "162430              50719.0  \n",
       "162435              15752.0  \n",
       "162438              64254.0  \n",
       "\n",
       "[35218 rows x 7 columns]"
      ]
     },
     "execution_count": 155,
     "metadata": {},
     "output_type": "execute_result"
    }
   ],
   "source": [
    "df.astype(float)"
   ]
  },
  {
   "cell_type": "code",
   "execution_count": 156,
   "id": "51989058",
   "metadata": {},
   "outputs": [],
   "source": [
    "X = df.drop(\"ConvertedCompYearly\", axis=1)\n",
    "y = df[\"ConvertedCompYearly\"]"
   ]
  },
  {
   "cell_type": "code",
   "execution_count": 157,
   "id": "1d021603",
   "metadata": {},
   "outputs": [
    {
     "data": {
      "text/html": [
       "<style>#sk-container-id-3 {color: black;background-color: white;}#sk-container-id-3 pre{padding: 0;}#sk-container-id-3 div.sk-toggleable {background-color: white;}#sk-container-id-3 label.sk-toggleable__label {cursor: pointer;display: block;width: 100%;margin-bottom: 0;padding: 0.3em;box-sizing: border-box;text-align: center;}#sk-container-id-3 label.sk-toggleable__label-arrow:before {content: \"▸\";float: left;margin-right: 0.25em;color: #696969;}#sk-container-id-3 label.sk-toggleable__label-arrow:hover:before {color: black;}#sk-container-id-3 div.sk-estimator:hover label.sk-toggleable__label-arrow:before {color: black;}#sk-container-id-3 div.sk-toggleable__content {max-height: 0;max-width: 0;overflow: hidden;text-align: left;background-color: #f0f8ff;}#sk-container-id-3 div.sk-toggleable__content pre {margin: 0.2em;color: black;border-radius: 0.25em;background-color: #f0f8ff;}#sk-container-id-3 input.sk-toggleable__control:checked~div.sk-toggleable__content {max-height: 200px;max-width: 100%;overflow: auto;}#sk-container-id-3 input.sk-toggleable__control:checked~label.sk-toggleable__label-arrow:before {content: \"▾\";}#sk-container-id-3 div.sk-estimator input.sk-toggleable__control:checked~label.sk-toggleable__label {background-color: #d4ebff;}#sk-container-id-3 div.sk-label input.sk-toggleable__control:checked~label.sk-toggleable__label {background-color: #d4ebff;}#sk-container-id-3 input.sk-hidden--visually {border: 0;clip: rect(1px 1px 1px 1px);clip: rect(1px, 1px, 1px, 1px);height: 1px;margin: -1px;overflow: hidden;padding: 0;position: absolute;width: 1px;}#sk-container-id-3 div.sk-estimator {font-family: monospace;background-color: #f0f8ff;border: 1px dotted black;border-radius: 0.25em;box-sizing: border-box;margin-bottom: 0.5em;}#sk-container-id-3 div.sk-estimator:hover {background-color: #d4ebff;}#sk-container-id-3 div.sk-parallel-item::after {content: \"\";width: 100%;border-bottom: 1px solid gray;flex-grow: 1;}#sk-container-id-3 div.sk-label:hover label.sk-toggleable__label {background-color: #d4ebff;}#sk-container-id-3 div.sk-serial::before {content: \"\";position: absolute;border-left: 1px solid gray;box-sizing: border-box;top: 0;bottom: 0;left: 50%;z-index: 0;}#sk-container-id-3 div.sk-serial {display: flex;flex-direction: column;align-items: center;background-color: white;padding-right: 0.2em;padding-left: 0.2em;position: relative;}#sk-container-id-3 div.sk-item {position: relative;z-index: 1;}#sk-container-id-3 div.sk-parallel {display: flex;align-items: stretch;justify-content: center;background-color: white;position: relative;}#sk-container-id-3 div.sk-item::before, #sk-container-id-3 div.sk-parallel-item::before {content: \"\";position: absolute;border-left: 1px solid gray;box-sizing: border-box;top: 0;bottom: 0;left: 50%;z-index: -1;}#sk-container-id-3 div.sk-parallel-item {display: flex;flex-direction: column;z-index: 1;position: relative;background-color: white;}#sk-container-id-3 div.sk-parallel-item:first-child::after {align-self: flex-end;width: 50%;}#sk-container-id-3 div.sk-parallel-item:last-child::after {align-self: flex-start;width: 50%;}#sk-container-id-3 div.sk-parallel-item:only-child::after {width: 0;}#sk-container-id-3 div.sk-dashed-wrapped {border: 1px dashed gray;margin: 0 0.4em 0.5em 0.4em;box-sizing: border-box;padding-bottom: 0.4em;background-color: white;}#sk-container-id-3 div.sk-label label {font-family: monospace;font-weight: bold;display: inline-block;line-height: 1.2em;}#sk-container-id-3 div.sk-label-container {text-align: center;}#sk-container-id-3 div.sk-container {/* jupyter's `normalize.less` sets `[hidden] { display: none; }` but bootstrap.min.css set `[hidden] { display: none !important; }` so we also need the `!important` here to be able to override the default hidden behavior on the sphinx rendered scikit-learn.org. See: https://github.com/scikit-learn/scikit-learn/issues/21755 */display: inline-block !important;position: relative;}#sk-container-id-3 div.sk-text-repr-fallback {display: none;}</style><div id=\"sk-container-id-3\" class=\"sk-top-container\"><div class=\"sk-text-repr-fallback\"><pre>GridSearchCV(estimator=DecisionTreeRegressor(random_state=0),\n",
       "             param_grid={&#x27;max_depth&#x27;: [None, 2, 4, 6, 8, 10, 12]},\n",
       "             scoring=&#x27;neg_mean_squared_error&#x27;)</pre><b>In a Jupyter environment, please rerun this cell to show the HTML representation or trust the notebook. <br />On GitHub, the HTML representation is unable to render, please try loading this page with nbviewer.org.</b></div><div class=\"sk-container\" hidden><div class=\"sk-item sk-dashed-wrapped\"><div class=\"sk-label-container\"><div class=\"sk-label sk-toggleable\"><input class=\"sk-toggleable__control sk-hidden--visually\" id=\"sk-estimator-id-3\" type=\"checkbox\" ><label for=\"sk-estimator-id-3\" class=\"sk-toggleable__label sk-toggleable__label-arrow\">GridSearchCV</label><div class=\"sk-toggleable__content\"><pre>GridSearchCV(estimator=DecisionTreeRegressor(random_state=0),\n",
       "             param_grid={&#x27;max_depth&#x27;: [None, 2, 4, 6, 8, 10, 12]},\n",
       "             scoring=&#x27;neg_mean_squared_error&#x27;)</pre></div></div></div><div class=\"sk-parallel\"><div class=\"sk-parallel-item\"><div class=\"sk-item\"><div class=\"sk-label-container\"><div class=\"sk-label sk-toggleable\"><input class=\"sk-toggleable__control sk-hidden--visually\" id=\"sk-estimator-id-4\" type=\"checkbox\" ><label for=\"sk-estimator-id-4\" class=\"sk-toggleable__label sk-toggleable__label-arrow\">estimator: DecisionTreeRegressor</label><div class=\"sk-toggleable__content\"><pre>DecisionTreeRegressor(random_state=0)</pre></div></div></div><div class=\"sk-serial\"><div class=\"sk-item\"><div class=\"sk-estimator sk-toggleable\"><input class=\"sk-toggleable__control sk-hidden--visually\" id=\"sk-estimator-id-5\" type=\"checkbox\" ><label for=\"sk-estimator-id-5\" class=\"sk-toggleable__label sk-toggleable__label-arrow\">DecisionTreeRegressor</label><div class=\"sk-toggleable__content\"><pre>DecisionTreeRegressor(random_state=0)</pre></div></div></div></div></div></div></div></div></div></div>"
      ],
      "text/plain": [
       "GridSearchCV(estimator=DecisionTreeRegressor(random_state=0),\n",
       "             param_grid={'max_depth': [None, 2, 4, 6, 8, 10, 12]},\n",
       "             scoring='neg_mean_squared_error')"
      ]
     },
     "execution_count": 157,
     "metadata": {},
     "output_type": "execute_result"
    }
   ],
   "source": [
    "from sklearn.model_selection import GridSearchCV\n",
    "from sklearn.tree import DecisionTreeRegressor\n",
    "\n",
    "max_depth = [None, 2,4,6,8,10,12]\n",
    "parameters = {\"max_depth\": max_depth}\n",
    "\n",
    "regressor = DecisionTreeRegressor(random_state=0)\n",
    "gs = GridSearchCV(regressor, parameters, scoring='neg_mean_squared_error')\n",
    "gs.fit(X, y.values)"
   ]
  },
  {
   "cell_type": "code",
   "execution_count": 158,
   "id": "095c124f",
   "metadata": {},
   "outputs": [],
   "source": [
    "regressor = gs.best_estimator_\n",
    "\n",
    "regressor.fit(X, y.values)\n",
    "y_pred = regressor.predict(X)\n",
    "error = np.sqrt(mean_squared_error(y, y_pred))"
   ]
  },
  {
   "cell_type": "code",
   "execution_count": 159,
   "id": "b9b88810",
   "metadata": {},
   "outputs": [
    {
     "data": {
      "text/html": [
       "<div>\n",
       "<style scoped>\n",
       "    .dataframe tbody tr th:only-of-type {\n",
       "        vertical-align: middle;\n",
       "    }\n",
       "\n",
       "    .dataframe tbody tr th {\n",
       "        vertical-align: top;\n",
       "    }\n",
       "\n",
       "    .dataframe thead th {\n",
       "        text-align: right;\n",
       "    }\n",
       "</style>\n",
       "<table border=\"1\" class=\"dataframe\">\n",
       "  <thead>\n",
       "    <tr style=\"text-align: right;\">\n",
       "      <th></th>\n",
       "      <th>Country</th>\n",
       "      <th>DevType</th>\n",
       "      <th>Age</th>\n",
       "      <th>EdLevel</th>\n",
       "      <th>WorkExp</th>\n",
       "      <th>YearsCode</th>\n",
       "      <th>ConvertedCompYearly</th>\n",
       "    </tr>\n",
       "  </thead>\n",
       "  <tbody>\n",
       "    <tr>\n",
       "      <th>8</th>\n",
       "      <td>6</td>\n",
       "      <td>423</td>\n",
       "      <td>25</td>\n",
       "      <td>3</td>\n",
       "      <td>6.000000</td>\n",
       "      <td>6.0</td>\n",
       "      <td>49056.0</td>\n",
       "    </tr>\n",
       "    <tr>\n",
       "      <th>12</th>\n",
       "      <td>9</td>\n",
       "      <td>1658</td>\n",
       "      <td>25</td>\n",
       "      <td>2</td>\n",
       "      <td>5.000000</td>\n",
       "      <td>12.0</td>\n",
       "      <td>65000.0</td>\n",
       "    </tr>\n",
       "    <tr>\n",
       "      <th>22</th>\n",
       "      <td>2</td>\n",
       "      <td>423</td>\n",
       "      <td>35</td>\n",
       "      <td>1</td>\n",
       "      <td>23.000000</td>\n",
       "      <td>25.0</td>\n",
       "      <td>97605.0</td>\n",
       "    </tr>\n",
       "    <tr>\n",
       "      <th>25</th>\n",
       "      <td>4</td>\n",
       "      <td>599</td>\n",
       "      <td>25</td>\n",
       "      <td>3</td>\n",
       "      <td>9.000000</td>\n",
       "      <td>16.0</td>\n",
       "      <td>90647.0</td>\n",
       "    </tr>\n",
       "    <tr>\n",
       "      <th>26</th>\n",
       "      <td>9</td>\n",
       "      <td>1783</td>\n",
       "      <td>25</td>\n",
       "      <td>2</td>\n",
       "      <td>7.833333</td>\n",
       "      <td>10.0</td>\n",
       "      <td>106960.0</td>\n",
       "    </tr>\n",
       "  </tbody>\n",
       "</table>\n",
       "</div>"
      ],
      "text/plain": [
       "    Country  DevType  Age  EdLevel    WorkExp  YearsCode  ConvertedCompYearly\n",
       "8         6      423   25        3   6.000000        6.0              49056.0\n",
       "12        9     1658   25        2   5.000000       12.0              65000.0\n",
       "22        2      423   35        1  23.000000       25.0              97605.0\n",
       "25        4      599   25        3   9.000000       16.0              90647.0\n",
       "26        9     1783   25        2   7.833333       10.0             106960.0"
      ]
     },
     "execution_count": 159,
     "metadata": {},
     "output_type": "execute_result"
    }
   ],
   "source": [
    "df.head()"
   ]
  },
  {
   "cell_type": "code",
   "execution_count": 160,
   "id": "6163a031",
   "metadata": {},
   "outputs": [
    {
     "data": {
      "text/plain": [
       "array([['Germany', 'Developer, back-end', '32',\n",
       "        'Master’s degree (M.A., M.S., M.Eng., MBA, etc.)', '5', '2']],\n",
       "      dtype='<U47')"
      ]
     },
     "execution_count": 160,
     "metadata": {},
     "output_type": "execute_result"
    }
   ],
   "source": [
    "X = np.array([[\"Germany\", \"Developer, back-end\",\"Master’s degree (M.A., M.S., M.Eng., MBA, etc.)\", 5, 2]])\n",
    "X"
   ]
  },
  {
   "cell_type": "code",
   "execution_count": 161,
   "id": "6e765372",
   "metadata": {},
   "outputs": [],
   "source": [
    "X[:, 0] = LabelEncoder_Country.transform(X[:,0])\n",
    "X[:, 1] = LabelEncoder_DevType.transform(X[:,1])"
   ]
  },
  {
   "cell_type": "code",
   "execution_count": 162,
   "id": "cea30ec7",
   "metadata": {},
   "outputs": [],
   "source": [
    "X[0, 3] = dic_EdLevel[X[0, 3]] "
   ]
  },
  {
   "cell_type": "code",
   "execution_count": 163,
   "id": "52d895e1",
   "metadata": {},
   "outputs": [
    {
     "data": {
      "text/plain": [
       "array([['4', '423', '32', '3', '5', '2']], dtype='<U47')"
      ]
     },
     "execution_count": 163,
     "metadata": {},
     "output_type": "execute_result"
    }
   ],
   "source": [
    "X"
   ]
  },
  {
   "cell_type": "code",
   "execution_count": 164,
   "id": "6bcd064d",
   "metadata": {},
   "outputs": [
    {
     "name": "stderr",
     "output_type": "stream",
     "text": [
      "C:\\Users\\qujin\\AppData\\Local\\Packages\\PythonSoftwareFoundation.Python.3.9_qbz5n2kfra8p0\\LocalCache\\local-packages\\Python39\\site-packages\\sklearn\\base.py:420: UserWarning: X does not have valid feature names, but DecisionTreeRegressor was fitted with feature names\n",
      "  warnings.warn(\n"
     ]
    },
    {
     "data": {
      "text/plain": [
       "array([64370.18295082])"
      ]
     },
     "execution_count": 164,
     "metadata": {},
     "output_type": "execute_result"
    }
   ],
   "source": [
    "y_pred = regressor.predict(X)\n",
    "y_pred"
   ]
  },
  {
   "cell_type": "code",
   "execution_count": 165,
   "id": "c17d088d",
   "metadata": {},
   "outputs": [],
   "source": [
    "data = {\"model\": regressor, \"LabelEncoder_Country\": LabelEncoder_Country, \"LabelEncoder_DevType\": LabelEncoder_DevType}\n",
    "with open('saved_steps.pkl', 'wb') as file:\n",
    "    pickle.dump(data, file)"
   ]
  },
  {
   "cell_type": "code",
   "execution_count": null,
   "id": "044733c1",
   "metadata": {},
   "outputs": [],
   "source": []
  }
 ],
 "metadata": {
  "kernelspec": {
   "display_name": "Python 3 (ipykernel)",
   "language": "python",
   "name": "python3"
  },
  "language_info": {
   "codemirror_mode": {
    "name": "ipython",
    "version": 3
   },
   "file_extension": ".py",
   "mimetype": "text/x-python",
   "name": "python",
   "nbconvert_exporter": "python",
   "pygments_lexer": "ipython3",
   "version": "3.9.13"
  }
 },
 "nbformat": 4,
 "nbformat_minor": 5
}
